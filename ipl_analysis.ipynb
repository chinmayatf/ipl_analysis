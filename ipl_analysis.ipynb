{
  "cells": [
    {
      "cell_type": "code",
      "execution_count": null,
      "metadata": {
        "id": "SFRGMOdqBDT-"
      },
      "outputs": [],
      "source": [
        "!pip install jovian opendatasets --upgrade --quiet"
      ]
    },
    {
      "cell_type": "markdown",
      "metadata": {
        "id": "9G5Z6q-QBDUA"
      },
      "source": [
        "Let's begin by downloading the data, and listing the files within the dataset."
      ]
    },
    {
      "cell_type": "code",
      "execution_count": null,
      "metadata": {
        "id": "bRXJFn1uBDUA"
      },
      "outputs": [],
      "source": [
        "# Change this\n",
        "dataset_url = 'https://www.kaggle.com/nowke9/ipldata?select=matches.csv'"
      ]
    },
    {
      "cell_type": "code",
      "execution_count": null,
      "metadata": {
        "id": "lgH-mQQGBDUB",
        "outputId": "a82102d9-6288-4558-eee5-3fddf0869cb2"
      },
      "outputs": [
        {
          "name": "stdout",
          "output_type": "stream",
          "text": [
            "Please provide your Kaggle credentials to download this dataset. Learn more: http://bit.ly/kaggle-creds\n",
            "Your Kaggle username: iambipin\n",
            "Your Kaggle Key: ········\n"
          ]
        },
        {
          "name": "stderr",
          "output_type": "stream",
          "text": [
            "100%|██████████| 1.20M/1.20M [00:00<00:00, 78.6MB/s]"
          ]
        },
        {
          "name": "stdout",
          "output_type": "stream",
          "text": [
            "Downloading ipldata.zip to ./ipldata\n",
            "\n"
          ]
        },
        {
          "name": "stderr",
          "output_type": "stream",
          "text": [
            "\n"
          ]
        }
      ],
      "source": [
        "import opendatasets as od\n",
        "od.download(dataset_url)"
      ]
    },
    {
      "cell_type": "markdown",
      "metadata": {
        "id": "ylmAL_4DBDUC"
      },
      "source": [
        "The dataset has been downloaded and extracted."
      ]
    },
    {
      "cell_type": "code",
      "execution_count": null,
      "metadata": {
        "id": "FUGWKuVpBDUC"
      },
      "outputs": [],
      "source": [
        "# Change this\n",
        "data_dir = './ipldata'"
      ]
    },
    {
      "cell_type": "code",
      "execution_count": null,
      "metadata": {
        "id": "aidut_hsBDUD",
        "outputId": "052181ab-e3b3-4a70-ea66-f7a3673e9370"
      },
      "outputs": [
        {
          "data": {
            "text/plain": [
              "['deliveries.csv', 'matches.csv']"
            ]
          },
          "execution_count": 5,
          "metadata": {},
          "output_type": "execute_result"
        }
      ],
      "source": [
        "import os\n",
        "os.listdir(data_dir)"
      ]
    },
    {
      "cell_type": "code",
      "execution_count": null,
      "metadata": {
        "id": "eTcOQne_BDUE"
      },
      "outputs": [],
      "source": [
        "project_name = \"ipl_analysis\" # change this (use lowercase letters and hyphens only)"
      ]
    },
    {
      "cell_type": "code",
      "execution_count": null,
      "metadata": {
        "id": "ovn3hPklBDUF"
      },
      "outputs": [],
      "source": [
        "!pip install jovian --upgrade -q"
      ]
    },
    {
      "cell_type": "code",
      "execution_count": null,
      "metadata": {
        "id": "lC0XnmPQBDUF",
        "outputId": "69306caf-bde6-4862-e430-01789abb2a8c"
      },
      "outputs": [
        {
          "data": {
            "application/javascript": [
              "if (window.IPython && IPython.notebook.kernel) IPython.notebook.kernel.execute('jovian.utils.jupyter.get_notebook_name_saved = lambda: \"' + IPython.notebook.notebook_name + '\"')"
            ],
            "text/plain": [
              "<IPython.core.display.Javascript object>"
            ]
          },
          "metadata": {},
          "output_type": "display_data"
        }
      ],
      "source": [
        "import jovian"
      ]
    },
    {
      "cell_type": "code",
      "execution_count": null,
      "metadata": {
        "id": "2yg_sK09BDUF",
        "outputId": "8a3b9b82-188e-441f-c5e8-4b5aadd25ae8"
      },
      "outputs": [
        {
          "data": {
            "application/javascript": [
              "window.require && require([\"base/js/namespace\"],function(Jupyter){Jupyter.notebook.save_checkpoint()})"
            ],
            "text/plain": [
              "<IPython.core.display.Javascript object>"
            ]
          },
          "metadata": {},
          "output_type": "display_data"
        },
        {
          "name": "stdout",
          "output_type": "stream",
          "text": [
            "[jovian] Attempting to save notebook..\u001b[0m\n",
            "[jovian] Detected Kaggle notebook...\u001b[0m\n",
            "[jovian] Uploading notebook to https://jovian.ml/bipinp2013/ipl_analysis\u001b[0m\n"
          ]
        },
        {
          "data": {
            "application/javascript": [
              "\n",
              "    require([\"base/js/namespace\"],function(Jupyter) {\n",
              "        var nbJson = JSON.stringify(Jupyter.notebook.toJSON());\n",
              "\n",
              "        console.log(\"[jovian] Extracted notebook JSON:\");\n",
              "        console.log(nbJson);\n",
              "\n",
              "        function jvnLog (data) {\n",
              "          console.log(\"Result from jovian.commit:\");\n",
              "          if (data.content.text) {\n",
              "              var result = JSON.parse(data.content.text.trim());\n",
              "              var msg = result['msg'];\n",
              "              var err = result['err'];\n",
              "              if (msg) {\n",
              "                  element.text(\"Committed successfully: \" + msg)\n",
              "              } else {\n",
              "                  alert(\"Notebook commit failed. Error: \" + (err || \"Unknown\"))\n",
              "              }\n",
              "          }\n",
              "          \n",
              "        };\n",
              "        \n",
              "        var pythonCode = `\n",
              "from contextlib import redirect_stdout, redirect_stderr\n",
              "from io import StringIO\n",
              "import json\n",
              " \n",
              "with open(\"ipl_analysis.ipynb\", 'w') as f:\n",
              "    f.write(r\"\"\"${nbJson}\"\"\")\n",
              "\n",
              "jvn_update = StringIO()\n",
              "jvn_update_err = StringIO()\n",
              "with redirect_stdout(jvn_update), redirect_stderr(jvn_update_err):\n",
              "    from jovian import commit\n",
              "\n",
              "jvn_f_out = StringIO()\n",
              "jvn_f_err = StringIO()\n",
              "with redirect_stdout(jvn_f_out), redirect_stderr(jvn_f_err):\n",
              "    jvn_msg = jovian.commit(message=None, files=[], outputs=[], environment='auto', privacy='auto', filename='ipl_analysis.ipynb', project='ipl_analysis', new_project=None)\n",
              "\n",
              "print(json.dumps({'msg': jvn_msg, 'err': jvn_f_err.getvalue(), 'update': jvn_update.getvalue()}))\n",
              "        `;\n",
              "\n",
              "        console.log(\"Invoking jovian.commit\")\n",
              "        // console.log(pythonCode)\n",
              "\n",
              "        Jupyter.notebook.kernel.execute(pythonCode, { iopub: { output: jvnLog }});\n",
              "    });"
            ],
            "text/plain": [
              "<IPython.core.display.Javascript object>"
            ]
          },
          "metadata": {},
          "output_type": "display_data"
        }
      ],
      "source": [
        "jovian.commit(project=project_name)"
      ]
    },
    {
      "cell_type": "markdown",
      "metadata": {
        "id": "VfqHyDb7BDUF"
      },
      "source": [
        "## Data Preparation and Cleaning\n",
        "\n",
        "Let's start by reading the csv file to Pandas DataFrame."
      ]
    },
    {
      "cell_type": "code",
      "execution_count": null,
      "metadata": {
        "id": "oxDOnvexBDUG"
      },
      "outputs": [],
      "source": [
        "import pandas as pd\n",
        "ipl_matches_df = pd.read_csv('./ipldata/matches.csv')"
      ]
    },
    {
      "cell_type": "code",
      "execution_count": null,
      "metadata": {
        "id": "abZc9coPBDUG",
        "outputId": "d5e8d755-f032-4919-f4de-38af471fc3c1"
      },
      "outputs": [
        {
          "data": {
            "text/html": [
              "<div>\n",
              "<style scoped>\n",
              "    .dataframe tbody tr th:only-of-type {\n",
              "        vertical-align: middle;\n",
              "    }\n",
              "\n",
              "    .dataframe tbody tr th {\n",
              "        vertical-align: top;\n",
              "    }\n",
              "\n",
              "    .dataframe thead th {\n",
              "        text-align: right;\n",
              "    }\n",
              "</style>\n",
              "<table border=\"1\" class=\"dataframe\">\n",
              "  <thead>\n",
              "    <tr style=\"text-align: right;\">\n",
              "      <th></th>\n",
              "      <th>id</th>\n",
              "      <th>season</th>\n",
              "      <th>city</th>\n",
              "      <th>date</th>\n",
              "      <th>team1</th>\n",
              "      <th>team2</th>\n",
              "      <th>toss_winner</th>\n",
              "      <th>toss_decision</th>\n",
              "      <th>result</th>\n",
              "      <th>dl_applied</th>\n",
              "      <th>winner</th>\n",
              "      <th>win_by_runs</th>\n",
              "      <th>win_by_wickets</th>\n",
              "      <th>player_of_match</th>\n",
              "      <th>venue</th>\n",
              "      <th>umpire1</th>\n",
              "      <th>umpire2</th>\n",
              "      <th>umpire3</th>\n",
              "    </tr>\n",
              "  </thead>\n",
              "  <tbody>\n",
              "    <tr>\n",
              "      <th>0</th>\n",
              "      <td>1</td>\n",
              "      <td>2017</td>\n",
              "      <td>Hyderabad</td>\n",
              "      <td>2017-04-05</td>\n",
              "      <td>Sunrisers Hyderabad</td>\n",
              "      <td>Royal Challengers Bangalore</td>\n",
              "      <td>Royal Challengers Bangalore</td>\n",
              "      <td>field</td>\n",
              "      <td>normal</td>\n",
              "      <td>0</td>\n",
              "      <td>Sunrisers Hyderabad</td>\n",
              "      <td>35</td>\n",
              "      <td>0</td>\n",
              "      <td>Yuvraj Singh</td>\n",
              "      <td>Rajiv Gandhi International Stadium, Uppal</td>\n",
              "      <td>AY Dandekar</td>\n",
              "      <td>NJ Llong</td>\n",
              "      <td>NaN</td>\n",
              "    </tr>\n",
              "    <tr>\n",
              "      <th>1</th>\n",
              "      <td>2</td>\n",
              "      <td>2017</td>\n",
              "      <td>Pune</td>\n",
              "      <td>2017-04-06</td>\n",
              "      <td>Mumbai Indians</td>\n",
              "      <td>Rising Pune Supergiant</td>\n",
              "      <td>Rising Pune Supergiant</td>\n",
              "      <td>field</td>\n",
              "      <td>normal</td>\n",
              "      <td>0</td>\n",
              "      <td>Rising Pune Supergiant</td>\n",
              "      <td>0</td>\n",
              "      <td>7</td>\n",
              "      <td>SPD Smith</td>\n",
              "      <td>Maharashtra Cricket Association Stadium</td>\n",
              "      <td>A Nand Kishore</td>\n",
              "      <td>S Ravi</td>\n",
              "      <td>NaN</td>\n",
              "    </tr>\n",
              "    <tr>\n",
              "      <th>2</th>\n",
              "      <td>3</td>\n",
              "      <td>2017</td>\n",
              "      <td>Rajkot</td>\n",
              "      <td>2017-04-07</td>\n",
              "      <td>Gujarat Lions</td>\n",
              "      <td>Kolkata Knight Riders</td>\n",
              "      <td>Kolkata Knight Riders</td>\n",
              "      <td>field</td>\n",
              "      <td>normal</td>\n",
              "      <td>0</td>\n",
              "      <td>Kolkata Knight Riders</td>\n",
              "      <td>0</td>\n",
              "      <td>10</td>\n",
              "      <td>CA Lynn</td>\n",
              "      <td>Saurashtra Cricket Association Stadium</td>\n",
              "      <td>Nitin Menon</td>\n",
              "      <td>CK Nandan</td>\n",
              "      <td>NaN</td>\n",
              "    </tr>\n",
              "    <tr>\n",
              "      <th>3</th>\n",
              "      <td>4</td>\n",
              "      <td>2017</td>\n",
              "      <td>Indore</td>\n",
              "      <td>2017-04-08</td>\n",
              "      <td>Rising Pune Supergiant</td>\n",
              "      <td>Kings XI Punjab</td>\n",
              "      <td>Kings XI Punjab</td>\n",
              "      <td>field</td>\n",
              "      <td>normal</td>\n",
              "      <td>0</td>\n",
              "      <td>Kings XI Punjab</td>\n",
              "      <td>0</td>\n",
              "      <td>6</td>\n",
              "      <td>GJ Maxwell</td>\n",
              "      <td>Holkar Cricket Stadium</td>\n",
              "      <td>AK Chaudhary</td>\n",
              "      <td>C Shamshuddin</td>\n",
              "      <td>NaN</td>\n",
              "    </tr>\n",
              "    <tr>\n",
              "      <th>4</th>\n",
              "      <td>5</td>\n",
              "      <td>2017</td>\n",
              "      <td>Bangalore</td>\n",
              "      <td>2017-04-08</td>\n",
              "      <td>Royal Challengers Bangalore</td>\n",
              "      <td>Delhi Daredevils</td>\n",
              "      <td>Royal Challengers Bangalore</td>\n",
              "      <td>bat</td>\n",
              "      <td>normal</td>\n",
              "      <td>0</td>\n",
              "      <td>Royal Challengers Bangalore</td>\n",
              "      <td>15</td>\n",
              "      <td>0</td>\n",
              "      <td>KM Jadhav</td>\n",
              "      <td>M Chinnaswamy Stadium</td>\n",
              "      <td>NaN</td>\n",
              "      <td>NaN</td>\n",
              "      <td>NaN</td>\n",
              "    </tr>\n",
              "    <tr>\n",
              "      <th>...</th>\n",
              "      <td>...</td>\n",
              "      <td>...</td>\n",
              "      <td>...</td>\n",
              "      <td>...</td>\n",
              "      <td>...</td>\n",
              "      <td>...</td>\n",
              "      <td>...</td>\n",
              "      <td>...</td>\n",
              "      <td>...</td>\n",
              "      <td>...</td>\n",
              "      <td>...</td>\n",
              "      <td>...</td>\n",
              "      <td>...</td>\n",
              "      <td>...</td>\n",
              "      <td>...</td>\n",
              "      <td>...</td>\n",
              "      <td>...</td>\n",
              "      <td>...</td>\n",
              "    </tr>\n",
              "    <tr>\n",
              "      <th>751</th>\n",
              "      <td>11347</td>\n",
              "      <td>2019</td>\n",
              "      <td>Mumbai</td>\n",
              "      <td>05/05/19</td>\n",
              "      <td>Kolkata Knight Riders</td>\n",
              "      <td>Mumbai Indians</td>\n",
              "      <td>Mumbai Indians</td>\n",
              "      <td>field</td>\n",
              "      <td>normal</td>\n",
              "      <td>0</td>\n",
              "      <td>Mumbai Indians</td>\n",
              "      <td>0</td>\n",
              "      <td>9</td>\n",
              "      <td>HH Pandya</td>\n",
              "      <td>Wankhede Stadium</td>\n",
              "      <td>Nanda Kishore</td>\n",
              "      <td>O Nandan</td>\n",
              "      <td>S Ravi</td>\n",
              "    </tr>\n",
              "    <tr>\n",
              "      <th>752</th>\n",
              "      <td>11412</td>\n",
              "      <td>2019</td>\n",
              "      <td>Chennai</td>\n",
              "      <td>07/05/19</td>\n",
              "      <td>Chennai Super Kings</td>\n",
              "      <td>Mumbai Indians</td>\n",
              "      <td>Chennai Super Kings</td>\n",
              "      <td>bat</td>\n",
              "      <td>normal</td>\n",
              "      <td>0</td>\n",
              "      <td>Mumbai Indians</td>\n",
              "      <td>0</td>\n",
              "      <td>6</td>\n",
              "      <td>AS Yadav</td>\n",
              "      <td>M. A. Chidambaram Stadium</td>\n",
              "      <td>Nigel Llong</td>\n",
              "      <td>Nitin Menon</td>\n",
              "      <td>Ian Gould</td>\n",
              "    </tr>\n",
              "    <tr>\n",
              "      <th>753</th>\n",
              "      <td>11413</td>\n",
              "      <td>2019</td>\n",
              "      <td>Visakhapatnam</td>\n",
              "      <td>08/05/19</td>\n",
              "      <td>Sunrisers Hyderabad</td>\n",
              "      <td>Delhi Capitals</td>\n",
              "      <td>Delhi Capitals</td>\n",
              "      <td>field</td>\n",
              "      <td>normal</td>\n",
              "      <td>0</td>\n",
              "      <td>Delhi Capitals</td>\n",
              "      <td>0</td>\n",
              "      <td>2</td>\n",
              "      <td>RR Pant</td>\n",
              "      <td>ACA-VDCA Stadium</td>\n",
              "      <td>NaN</td>\n",
              "      <td>NaN</td>\n",
              "      <td>NaN</td>\n",
              "    </tr>\n",
              "    <tr>\n",
              "      <th>754</th>\n",
              "      <td>11414</td>\n",
              "      <td>2019</td>\n",
              "      <td>Visakhapatnam</td>\n",
              "      <td>10/05/19</td>\n",
              "      <td>Delhi Capitals</td>\n",
              "      <td>Chennai Super Kings</td>\n",
              "      <td>Chennai Super Kings</td>\n",
              "      <td>field</td>\n",
              "      <td>normal</td>\n",
              "      <td>0</td>\n",
              "      <td>Chennai Super Kings</td>\n",
              "      <td>0</td>\n",
              "      <td>6</td>\n",
              "      <td>F du Plessis</td>\n",
              "      <td>ACA-VDCA Stadium</td>\n",
              "      <td>Sundaram Ravi</td>\n",
              "      <td>Bruce Oxenford</td>\n",
              "      <td>Chettithody Shamshuddin</td>\n",
              "    </tr>\n",
              "    <tr>\n",
              "      <th>755</th>\n",
              "      <td>11415</td>\n",
              "      <td>2019</td>\n",
              "      <td>Hyderabad</td>\n",
              "      <td>12/05/19</td>\n",
              "      <td>Mumbai Indians</td>\n",
              "      <td>Chennai Super Kings</td>\n",
              "      <td>Mumbai Indians</td>\n",
              "      <td>bat</td>\n",
              "      <td>normal</td>\n",
              "      <td>0</td>\n",
              "      <td>Mumbai Indians</td>\n",
              "      <td>1</td>\n",
              "      <td>0</td>\n",
              "      <td>JJ Bumrah</td>\n",
              "      <td>Rajiv Gandhi Intl. Cricket Stadium</td>\n",
              "      <td>Nitin Menon</td>\n",
              "      <td>Ian Gould</td>\n",
              "      <td>Nigel Llong</td>\n",
              "    </tr>\n",
              "  </tbody>\n",
              "</table>\n",
              "<p>756 rows × 18 columns</p>\n",
              "</div>"
            ],
            "text/plain": [
              "        id  season           city        date                        team1  \\\n",
              "0        1    2017      Hyderabad  2017-04-05          Sunrisers Hyderabad   \n",
              "1        2    2017           Pune  2017-04-06               Mumbai Indians   \n",
              "2        3    2017         Rajkot  2017-04-07                Gujarat Lions   \n",
              "3        4    2017         Indore  2017-04-08       Rising Pune Supergiant   \n",
              "4        5    2017      Bangalore  2017-04-08  Royal Challengers Bangalore   \n",
              "..     ...     ...            ...         ...                          ...   \n",
              "751  11347    2019         Mumbai    05/05/19        Kolkata Knight Riders   \n",
              "752  11412    2019        Chennai    07/05/19          Chennai Super Kings   \n",
              "753  11413    2019  Visakhapatnam    08/05/19          Sunrisers Hyderabad   \n",
              "754  11414    2019  Visakhapatnam    10/05/19               Delhi Capitals   \n",
              "755  11415    2019      Hyderabad    12/05/19               Mumbai Indians   \n",
              "\n",
              "                           team2                  toss_winner toss_decision  \\\n",
              "0    Royal Challengers Bangalore  Royal Challengers Bangalore         field   \n",
              "1         Rising Pune Supergiant       Rising Pune Supergiant         field   \n",
              "2          Kolkata Knight Riders        Kolkata Knight Riders         field   \n",
              "3                Kings XI Punjab              Kings XI Punjab         field   \n",
              "4               Delhi Daredevils  Royal Challengers Bangalore           bat   \n",
              "..                           ...                          ...           ...   \n",
              "751               Mumbai Indians               Mumbai Indians         field   \n",
              "752               Mumbai Indians          Chennai Super Kings           bat   \n",
              "753               Delhi Capitals               Delhi Capitals         field   \n",
              "754          Chennai Super Kings          Chennai Super Kings         field   \n",
              "755          Chennai Super Kings               Mumbai Indians           bat   \n",
              "\n",
              "     result  dl_applied                       winner  win_by_runs  \\\n",
              "0    normal           0          Sunrisers Hyderabad           35   \n",
              "1    normal           0       Rising Pune Supergiant            0   \n",
              "2    normal           0        Kolkata Knight Riders            0   \n",
              "3    normal           0              Kings XI Punjab            0   \n",
              "4    normal           0  Royal Challengers Bangalore           15   \n",
              "..      ...         ...                          ...          ...   \n",
              "751  normal           0               Mumbai Indians            0   \n",
              "752  normal           0               Mumbai Indians            0   \n",
              "753  normal           0               Delhi Capitals            0   \n",
              "754  normal           0          Chennai Super Kings            0   \n",
              "755  normal           0               Mumbai Indians            1   \n",
              "\n",
              "     win_by_wickets player_of_match  \\\n",
              "0                 0    Yuvraj Singh   \n",
              "1                 7       SPD Smith   \n",
              "2                10         CA Lynn   \n",
              "3                 6      GJ Maxwell   \n",
              "4                 0       KM Jadhav   \n",
              "..              ...             ...   \n",
              "751               9       HH Pandya   \n",
              "752               6        AS Yadav   \n",
              "753               2         RR Pant   \n",
              "754               6    F du Plessis   \n",
              "755               0       JJ Bumrah   \n",
              "\n",
              "                                         venue         umpire1  \\\n",
              "0    Rajiv Gandhi International Stadium, Uppal     AY Dandekar   \n",
              "1      Maharashtra Cricket Association Stadium  A Nand Kishore   \n",
              "2       Saurashtra Cricket Association Stadium     Nitin Menon   \n",
              "3                       Holkar Cricket Stadium    AK Chaudhary   \n",
              "4                        M Chinnaswamy Stadium             NaN   \n",
              "..                                         ...             ...   \n",
              "751                           Wankhede Stadium   Nanda Kishore   \n",
              "752                  M. A. Chidambaram Stadium     Nigel Llong   \n",
              "753                           ACA-VDCA Stadium             NaN   \n",
              "754                           ACA-VDCA Stadium   Sundaram Ravi   \n",
              "755         Rajiv Gandhi Intl. Cricket Stadium     Nitin Menon   \n",
              "\n",
              "            umpire2                  umpire3  \n",
              "0          NJ Llong                      NaN  \n",
              "1            S Ravi                      NaN  \n",
              "2         CK Nandan                      NaN  \n",
              "3     C Shamshuddin                      NaN  \n",
              "4               NaN                      NaN  \n",
              "..              ...                      ...  \n",
              "751        O Nandan                   S Ravi  \n",
              "752     Nitin Menon                Ian Gould  \n",
              "753             NaN                      NaN  \n",
              "754  Bruce Oxenford  Chettithody Shamshuddin  \n",
              "755       Ian Gould              Nigel Llong  \n",
              "\n",
              "[756 rows x 18 columns]"
            ]
          },
          "execution_count": 11,
          "metadata": {},
          "output_type": "execute_result"
        }
      ],
      "source": [
        "ipl_matches_df"
      ]
    },
    {
      "cell_type": "markdown",
      "metadata": {
        "id": "zFFsxVQcBDUG"
      },
      "source": [
        "So there are 756 rows and 18 columns. 756 rows imply that there were 756 IPL matches held between 2008 and 2019."
      ]
    },
    {
      "cell_type": "code",
      "execution_count": null,
      "metadata": {
        "id": "vTS_uAWHBDUG",
        "outputId": "a982bf62-5396-430b-e0be-ebc4246e5dd1"
      },
      "outputs": [
        {
          "name": "stdout",
          "output_type": "stream",
          "text": [
            "<class 'pandas.core.frame.DataFrame'>\n",
            "RangeIndex: 756 entries, 0 to 755\n",
            "Data columns (total 18 columns):\n",
            " #   Column           Non-Null Count  Dtype \n",
            "---  ------           --------------  ----- \n",
            " 0   id               756 non-null    int64 \n",
            " 1   season           756 non-null    int64 \n",
            " 2   city             749 non-null    object\n",
            " 3   date             756 non-null    object\n",
            " 4   team1            756 non-null    object\n",
            " 5   team2            756 non-null    object\n",
            " 6   toss_winner      756 non-null    object\n",
            " 7   toss_decision    756 non-null    object\n",
            " 8   result           756 non-null    object\n",
            " 9   dl_applied       756 non-null    int64 \n",
            " 10  winner           752 non-null    object\n",
            " 11  win_by_runs      756 non-null    int64 \n",
            " 12  win_by_wickets   756 non-null    int64 \n",
            " 13  player_of_match  752 non-null    object\n",
            " 14  venue            756 non-null    object\n",
            " 15  umpire1          754 non-null    object\n",
            " 16  umpire2          754 non-null    object\n",
            " 17  umpire3          119 non-null    object\n",
            "dtypes: int64(5), object(13)\n",
            "memory usage: 106.4+ KB\n"
          ]
        }
      ],
      "source": [
        "ipl_matches_df.info()"
      ]
    },
    {
      "cell_type": "code",
      "execution_count": null,
      "metadata": {
        "id": "I-1Pu1r6BDUG",
        "outputId": "70288cb0-2309-4c3a-96e3-e48bc3868615"
      },
      "outputs": [
        {
          "data": {
            "text/html": [
              "<div>\n",
              "<style scoped>\n",
              "    .dataframe tbody tr th:only-of-type {\n",
              "        vertical-align: middle;\n",
              "    }\n",
              "\n",
              "    .dataframe tbody tr th {\n",
              "        vertical-align: top;\n",
              "    }\n",
              "\n",
              "    .dataframe thead th {\n",
              "        text-align: right;\n",
              "    }\n",
              "</style>\n",
              "<table border=\"1\" class=\"dataframe\">\n",
              "  <thead>\n",
              "    <tr style=\"text-align: right;\">\n",
              "      <th></th>\n",
              "      <th>id</th>\n",
              "      <th>season</th>\n",
              "      <th>dl_applied</th>\n",
              "      <th>win_by_runs</th>\n",
              "      <th>win_by_wickets</th>\n",
              "    </tr>\n",
              "  </thead>\n",
              "  <tbody>\n",
              "    <tr>\n",
              "      <th>count</th>\n",
              "      <td>756.000000</td>\n",
              "      <td>756.000000</td>\n",
              "      <td>756.000000</td>\n",
              "      <td>756.000000</td>\n",
              "      <td>756.000000</td>\n",
              "    </tr>\n",
              "    <tr>\n",
              "      <th>mean</th>\n",
              "      <td>1792.178571</td>\n",
              "      <td>2013.444444</td>\n",
              "      <td>0.025132</td>\n",
              "      <td>13.283069</td>\n",
              "      <td>3.350529</td>\n",
              "    </tr>\n",
              "    <tr>\n",
              "      <th>std</th>\n",
              "      <td>3464.478148</td>\n",
              "      <td>3.366895</td>\n",
              "      <td>0.156630</td>\n",
              "      <td>23.471144</td>\n",
              "      <td>3.387963</td>\n",
              "    </tr>\n",
              "    <tr>\n",
              "      <th>min</th>\n",
              "      <td>1.000000</td>\n",
              "      <td>2008.000000</td>\n",
              "      <td>0.000000</td>\n",
              "      <td>0.000000</td>\n",
              "      <td>0.000000</td>\n",
              "    </tr>\n",
              "    <tr>\n",
              "      <th>25%</th>\n",
              "      <td>189.750000</td>\n",
              "      <td>2011.000000</td>\n",
              "      <td>0.000000</td>\n",
              "      <td>0.000000</td>\n",
              "      <td>0.000000</td>\n",
              "    </tr>\n",
              "    <tr>\n",
              "      <th>50%</th>\n",
              "      <td>378.500000</td>\n",
              "      <td>2013.000000</td>\n",
              "      <td>0.000000</td>\n",
              "      <td>0.000000</td>\n",
              "      <td>4.000000</td>\n",
              "    </tr>\n",
              "    <tr>\n",
              "      <th>75%</th>\n",
              "      <td>567.250000</td>\n",
              "      <td>2016.000000</td>\n",
              "      <td>0.000000</td>\n",
              "      <td>19.000000</td>\n",
              "      <td>6.000000</td>\n",
              "    </tr>\n",
              "    <tr>\n",
              "      <th>max</th>\n",
              "      <td>11415.000000</td>\n",
              "      <td>2019.000000</td>\n",
              "      <td>1.000000</td>\n",
              "      <td>146.000000</td>\n",
              "      <td>10.000000</td>\n",
              "    </tr>\n",
              "  </tbody>\n",
              "</table>\n",
              "</div>"
            ],
            "text/plain": [
              "                 id       season  dl_applied  win_by_runs  win_by_wickets\n",
              "count    756.000000   756.000000  756.000000   756.000000      756.000000\n",
              "mean    1792.178571  2013.444444    0.025132    13.283069        3.350529\n",
              "std     3464.478148     3.366895    0.156630    23.471144        3.387963\n",
              "min        1.000000  2008.000000    0.000000     0.000000        0.000000\n",
              "25%      189.750000  2011.000000    0.000000     0.000000        0.000000\n",
              "50%      378.500000  2013.000000    0.000000     0.000000        4.000000\n",
              "75%      567.250000  2016.000000    0.000000    19.000000        6.000000\n",
              "max    11415.000000  2019.000000    1.000000   146.000000       10.000000"
            ]
          },
          "execution_count": 13,
          "metadata": {},
          "output_type": "execute_result"
        }
      ],
      "source": [
        "ipl_matches_df.describe()"
      ]
    },
    {
      "cell_type": "markdown",
      "metadata": {
        "id": "7Wg0JbaLBDUH"
      },
      "source": [
        "### Observations\n",
        "The following inferences can be made from the describe() method:\n",
        "* The .csv file has data of IPL matches starting from the season 2008 to 2019.\n",
        "* **The biggest margin of victory for the team batting first(win_by_runs) is 146 runs.**\n",
        "* **The biggest victory of the team batting second(win_by_wickets) is by 10 wickets.**\n",
        "* **75% of the victorious teams that bat first won by a margin of 19 runs.**\n",
        "* **75% of the victorious teams that bat second won by a margin of 6 wickets.**\n",
        "* **There were 756 IPL matches hosted from 2008 to 2019.**"
      ]
    },
    {
      "cell_type": "code",
      "execution_count": null,
      "metadata": {
        "id": "mAArla2vBDUH",
        "outputId": "b94303a7-db5d-4c6e-d42a-9e14e6f35e26"
      },
      "outputs": [
        {
          "data": {
            "text/plain": [
              "Index(['id', 'season', 'city', 'date', 'team1', 'team2', 'toss_winner',\n",
              "       'toss_decision', 'result', 'dl_applied', 'winner', 'win_by_runs',\n",
              "       'win_by_wickets', 'player_of_match', 'venue', 'umpire1', 'umpire2',\n",
              "       'umpire3'],\n",
              "      dtype='object')"
            ]
          },
          "execution_count": 14,
          "metadata": {},
          "output_type": "execute_result"
        }
      ],
      "source": [
        "ipl_matches_df.columns"
      ]
    },
    {
      "cell_type": "markdown",
      "metadata": {
        "id": "_EojxWMVBDUH"
      },
      "source": [
        "> Let's view the unique values of each column to help us understand the dataset better."
      ]
    },
    {
      "cell_type": "code",
      "execution_count": null,
      "metadata": {
        "id": "uFobzuNfBDUH",
        "outputId": "2ef535f7-d6b1-401b-a74e-dbb7b8f1b1a4"
      },
      "outputs": [
        {
          "name": "stdout",
          "output_type": "stream",
          "text": [
            "[    1     2     3     4     5     6     7     8     9    10    11    12\n",
            "    13    14    15    16    17    18    19    20    21    22    23    24\n",
            "    25    26    27    28    29    30    31    32    33    34    35    36\n",
            "    37    38    39    40    41    42    43    44    45    46    47    48\n",
            "    49    50    51    52    53    54    55    56    57    58    59    60\n",
            "    61    62    63    64    65    66    67    68    69    70    71    72\n",
            "    73    74    75    76    77    78    79    80    81    82    83    84\n",
            "    85    86    87    88    89    90    91    92    93    94    95    96\n",
            "    97    98    99   100   101   102   103   104   105   106   107   108\n",
            "   109   110   111   112   113   114   115   116   117   118   119   120\n",
            "   121   122   123   124   125   126   127   128   129   130   131   132\n",
            "   133   134   135   136   137   138   139   140   141   142   143   144\n",
            "   145   146   147   148   149   150   151   152   153   154   155   156\n",
            "   157   158   159   160   161   162   163   164   165   166   167   168\n",
            "   169   170   171   172   173   174   175   176   177   178   179   180\n",
            "   181   182   183   184   185   186   187   188   189   190   191   192\n",
            "   193   194   195   196   197   198   199   200   201   202   203   204\n",
            "   205   206   207   208   209   210   211   212   213   214   215   216\n",
            "   217   218   219   220   221   222   223   224   225   226   227   228\n",
            "   229   230   231   232   233   234   235   236   237   238   239   240\n",
            "   241   242   243   244   245   246   247   248   249   250   251   252\n",
            "   253   254   255   256   257   258   259   260   261   262   263   264\n",
            "   265   266   267   268   269   270   271   272   273   274   275   276\n",
            "   277   278   279   280   281   282   283   284   285   286   287   288\n",
            "   289   290   291   292   293   294   295   296   297   298   299   300\n",
            "   301   302   303   304   305   306   307   308   309   310   311   312\n",
            "   313   314   315   316   317   318   319   320   321   322   323   324\n",
            "   325   326   327   328   329   330   331   332   333   334   335   336\n",
            "   337   338   339   340   341   342   343   344   345   346   347   348\n",
            "   349   350   351   352   353   354   355   356   357   358   359   360\n",
            "   361   362   363   364   365   366   367   368   369   370   371   372\n",
            "   373   374   375   376   377   378   379   380   381   382   383   384\n",
            "   385   386   387   388   389   390   391   392   393   394   395   396\n",
            "   397   398   399   400   401   402   403   404   405   406   407   408\n",
            "   409   410   411   412   413   414   415   416   417   418   419   420\n",
            "   421   422   423   424   425   426   427   428   429   430   431   432\n",
            "   433   434   435   436   437   438   439   440   441   442   443   444\n",
            "   445   446   447   448   449   450   451   452   453   454   455   456\n",
            "   457   458   459   460   461   462   463   464   465   466   467   468\n",
            "   469   470   471   472   473   474   475   476   477   478   479   480\n",
            "   481   482   483   484   485   486   487   488   489   490   491   492\n",
            "   493   494   495   496   497   498   499   500   501   502   503   504\n",
            "   505   506   507   508   509   510   511   512   513   514   515   516\n",
            "   517   518   519   520   521   522   523   524   525   526   527   528\n",
            "   529   530   531   532   533   534   535   536   537   538   539   540\n",
            "   541   542   543   544   545   546   547   548   549   550   551   552\n",
            "   553   554   555   556   557   558   559   560   561   562   563   564\n",
            "   565   566   567   568   569   570   571   572   573   574   575   576\n",
            "   577   578   579   580   581   582   583   584   585   586   587   588\n",
            "   589   590   591   592   593   594   595   596   597   598   599   600\n",
            "   601   602   603   604   605   606   607   608   609   610   611   612\n",
            "   613   614   615   616   617   618   619   620   621   622   623   624\n",
            "   625   626   627   628   629   630   631   632   633   634   635   636\n",
            "  7894  7895  7896  7897  7898  7899  7900  7901  7902  7903  7904  7905\n",
            "  7906  7907  7908  7909  7910  7911  7912  7913  7914  7915  7916  7917\n",
            "  7918  7919  7920  7921  7922  7923  7924  7925  7926  7927  7928  7929\n",
            "  7930  7931  7932  7933  7934  7935  7936  7937  7938  7939  7940  7941\n",
            "  7942  7943  7944  7945  7946  7947  7948  7949  7950  7951  7952  7953\n",
            " 11137 11138 11139 11140 11141 11142 11143 11144 11145 11146 11147 11148\n",
            " 11149 11150 11151 11152 11153 11309 11310 11311 11312 11313 11314 11315\n",
            " 11316 11317 11318 11319 11320 11321 11322 11323 11324 11325 11326 11327\n",
            " 11328 11329 11330 11331 11332 11333 11334 11335 11336 11337 11338 11339\n",
            " 11340 11341 11342 11343 11344 11345 11346 11347 11412 11413 11414 11415]\n",
            "[2017 2008 2009 2010 2011 2012 2013 2014 2015 2016 2018 2019]\n",
            "['Hyderabad' 'Pune' 'Rajkot' 'Indore' 'Bangalore' 'Mumbai' 'Kolkata'\n",
            " 'Delhi' 'Chandigarh' 'Kanpur' 'Jaipur' 'Chennai' 'Cape Town'\n",
            " 'Port Elizabeth' 'Durban' 'Centurion' 'East London' 'Johannesburg'\n",
            " 'Kimberley' 'Bloemfontein' 'Ahmedabad' 'Cuttack' 'Nagpur' 'Dharamsala'\n",
            " 'Kochi' 'Visakhapatnam' 'Raipur' 'Ranchi' 'Abu Dhabi' 'Sharjah' nan\n",
            " 'Mohali' 'Bengaluru']\n",
            "['2017-04-05' '2017-04-06' '2017-04-07' '2017-04-08' '2017-04-09'\n",
            " '2017-04-10' '2017-04-11' '2017-04-12' '2017-04-13' '2017-04-14'\n",
            " '2017-04-15' '2017-04-16' '2017-04-17' '2017-04-18' '2017-04-19'\n",
            " '2017-04-20' '2017-04-21' '2017-04-22' '2017-04-23' '2017-04-24'\n",
            " '2017-04-26' '2017-04-27' '2017-04-28' '2017-04-29' '2017-04-30'\n",
            " '2017-05-01' '2017-05-02' '2017-05-03' '2017-05-04' '2017-05-05'\n",
            " '2017-05-06' '2017-05-07' '2017-05-08' '2017-05-09' '2017-05-10'\n",
            " '2017-05-11' '2017-05-12' '2017-05-13' '2017-05-14' '2017-05-16'\n",
            " '2017-05-17' '2017-05-19' '2017-05-21' '2008-04-18' '2008-04-19'\n",
            " '2008-04-20' '2008-04-21' '2008-04-22' '2008-04-23' '2008-04-24'\n",
            " '2008-04-25' '2008-04-26' '2008-04-27' '2008-04-28' '2008-04-29'\n",
            " '2008-04-30' '2008-05-01' '2008-05-02' '2008-05-25' '2008-05-03'\n",
            " '2008-05-04' '2008-05-05' '2008-05-06' '2008-05-07' '2008-05-08'\n",
            " '2008-05-09' '2008-05-28' '2008-05-10' '2008-05-11' '2008-05-12'\n",
            " '2008-05-13' '2008-05-14' '2008-05-15' '2008-05-16' '2008-05-17'\n",
            " '2008-05-18' '2008-05-19' '2008-05-20' '2008-05-21' '2008-05-23'\n",
            " '2008-05-24' '2008-05-26' '2008-05-27' '2008-05-30' '2008-05-31'\n",
            " '2008-06-01' '2009-04-18' '2009-04-19' '2009-04-20' '2009-04-21'\n",
            " '2009-04-22' '2009-04-23' '2009-04-24' '2009-04-25' '2009-04-26'\n",
            " '2009-04-27' '2009-04-28' '2009-04-29' '2009-04-30' '2009-05-01'\n",
            " '2009-05-02' '2009-05-03' '2009-05-04' '2009-05-05' '2009-05-06'\n",
            " '2009-05-07' '2009-05-08' '2009-05-09' '2009-05-10' '2009-05-11'\n",
            " '2009-05-12' '2009-05-13' '2009-05-14' '2009-05-15' '2009-05-16'\n",
            " '2009-05-17' '2009-05-18' '2009-05-19' '2009-05-20' '2009-05-21'\n",
            " '2009-05-22' '2009-05-23' '2009-05-24' '2010-03-12' '2010-03-13'\n",
            " '2010-03-14' '2010-03-15' '2010-03-16' '2010-03-17' '2010-03-18'\n",
            " '2010-03-19' '2010-03-20' '2010-03-21' '2010-03-22' '2010-03-23'\n",
            " '2010-03-24' '2010-03-25' '2010-03-26' '2010-03-27' '2010-03-28'\n",
            " '2010-03-29' '2010-03-30' '2010-03-31' '2010-04-01' '2010-04-02'\n",
            " '2010-04-03' '2010-04-04' '2010-04-05' '2010-04-06' '2010-04-07'\n",
            " '2010-04-08' '2010-04-09' '2010-04-10' '2010-04-11' '2010-04-12'\n",
            " '2010-04-13' '2010-04-14' '2010-04-15' '2010-04-16' '2010-04-17'\n",
            " '2010-04-18' '2010-04-19' '2010-04-21' '2010-04-22' '2010-04-24'\n",
            " '2010-04-25' '2011-04-08' '2011-04-09' '2011-04-10' '2011-04-11'\n",
            " '2011-04-12' '2011-04-13' '2011-04-14' '2011-04-15' '2011-04-16'\n",
            " '2011-04-17' '2011-04-18' '2011-04-19' '2011-04-20' '2011-04-21'\n",
            " '2011-04-22' '2011-04-23' '2011-04-24' '2011-04-25' '2011-04-26'\n",
            " '2011-04-27' '2011-04-28' '2011-04-29' '2011-04-30' '2011-05-01'\n",
            " '2011-05-02' '2011-05-03' '2011-05-04' '2011-05-05' '2011-05-06'\n",
            " '2011-05-07' '2011-05-08' '2011-05-09' '2011-05-10' '2011-05-11'\n",
            " '2011-05-12' '2011-05-13' '2011-05-14' '2011-05-15' '2011-05-16'\n",
            " '2011-05-17' '2011-05-18' '2011-05-19' '2011-05-20' '2011-05-21'\n",
            " '2011-05-22' '2011-05-24' '2011-05-25' '2011-05-27' '2011-05-28'\n",
            " '2012-04-04' '2012-04-05' '2012-04-06' '2012-04-07' '2012-04-08'\n",
            " '2012-04-09' '2012-04-10' '2012-04-11' '2012-04-12' '2012-04-13'\n",
            " '2012-04-19' '2012-04-14' '2012-04-15' '2012-04-16' '2012-04-17'\n",
            " '2012-04-18' '2012-05-10' '2012-04-20' '2012-04-21' '2012-04-22'\n",
            " '2012-04-23' '2012-04-24' '2012-04-25' '2012-04-26' '2012-04-27'\n",
            " '2012-04-28' '2012-04-29' '2012-04-30' '2012-05-01' '2012-05-02'\n",
            " '2012-05-03' '2012-05-04' '2012-05-05' '2012-05-06' '2012-05-07'\n",
            " '2012-05-08' '2012-05-09' '2012-05-11' '2012-05-12' '2012-05-13'\n",
            " '2012-05-14' '2012-05-15' '2012-05-16' '2012-05-17' '2012-05-18'\n",
            " '2012-05-19' '2012-05-20' '2012-05-22' '2012-05-23' '2012-05-25'\n",
            " '2012-05-27' '2013-04-03' '2013-04-04' '2013-04-05' '2013-04-06'\n",
            " '2013-04-07' '2013-04-08' '2013-04-09' '2013-04-10' '2013-04-11'\n",
            " '2013-04-12' '2013-04-13' '2013-04-14' '2013-04-15' '2013-04-16'\n",
            " '2013-04-17' '2013-04-18' '2013-04-19' '2013-04-20' '2013-04-21'\n",
            " '2013-04-22' '2013-04-23' '2013-05-16' '2013-04-24' '2013-04-25'\n",
            " '2013-04-26' '2013-04-27' '2013-04-28' '2013-04-29' '2013-04-30'\n",
            " '2013-05-01' '2013-05-02' '2013-05-03' '2013-05-04' '2013-05-14'\n",
            " '2013-05-05' '2013-05-07' '2013-05-08' '2013-05-09' '2013-05-10'\n",
            " '2013-05-11' '2013-05-12' '2013-05-13' '2013-05-15' '2013-05-06'\n",
            " '2013-05-17' '2013-05-18' '2013-05-19' '2013-05-21' '2013-05-22'\n",
            " '2013-05-24' '2013-05-26' '2014-04-16' '2014-04-17' '2014-04-18'\n",
            " '2014-04-19' '2014-04-20' '2014-04-21' '2014-04-22' '2014-04-23'\n",
            " '2014-04-24' '2014-04-25' '2014-04-26' '2014-04-27' '2014-04-28'\n",
            " '2014-04-29' '2014-04-30' '2014-05-02' '2014-05-03' '2014-05-04'\n",
            " '2014-05-05' '2014-05-06' '2014-05-07' '2014-05-08' '2014-05-09'\n",
            " '2014-05-10' '2014-05-11' '2014-05-12' '2014-05-13' '2014-05-14'\n",
            " '2014-05-15' '2014-05-18' '2014-05-19' '2014-05-20' '2014-05-21'\n",
            " '2014-05-22' '2014-05-23' '2014-05-24' '2014-05-25' '2014-05-27'\n",
            " '2014-05-28' '2014-05-30' '2014-06-01' '2015-04-08' '2015-04-09'\n",
            " '2015-04-10' '2015-04-11' '2015-04-12' '2015-04-13' '2015-04-14'\n",
            " '2015-04-30' '2015-04-15' '2015-04-16' '2015-04-17' '2015-04-18'\n",
            " '2015-04-19' '2015-04-20' '2015-04-21' '2015-04-22' '2015-04-23'\n",
            " '2015-04-24' '2015-04-25' '2015-04-26' '2015-04-27' '2015-05-07'\n",
            " '2015-04-29' '2015-04-28' '2015-05-01' '2015-05-02' '2015-05-03'\n",
            " '2015-05-04' '2015-05-05' '2015-05-06' '2015-05-08' '2015-05-09'\n",
            " '2015-05-10' '2015-05-11' '2015-05-12' '2015-05-13' '2015-05-14'\n",
            " '2015-05-15' '2015-05-16' '2015-05-17' '2015-05-19' '2015-05-20'\n",
            " '2015-05-22' '2015-05-24' '2016-04-09' '2016-04-10' '2016-04-11'\n",
            " '2016-04-12' '2016-04-13' '2016-04-14' '2016-04-15' '2016-04-16'\n",
            " '2016-04-17' '2016-04-18' '2016-04-19' '2016-04-20' '2016-04-21'\n",
            " '2016-04-22' '2016-04-23' '2016-04-24' '2016-04-25' '2016-04-26'\n",
            " '2016-04-27' '2016-04-28' '2016-04-29' '2016-04-30' '2016-05-01'\n",
            " '2016-05-02' '2016-05-03' '2016-05-04' '2016-05-05' '2016-05-06'\n",
            " '2016-05-07' '2016-05-08' '2016-05-09' '2016-05-10' '2016-05-11'\n",
            " '2016-05-12' '2016-05-13' '2016-05-14' '2016-05-15' '2016-05-16'\n",
            " '2016-05-17' '2016-05-18' '2016-05-19' '2016-05-20' '2016-05-21'\n",
            " '2016-05-22' '2016-05-24' '2016-05-25' '2016-05-27' '2016-05-29'\n",
            " '07/04/18' '08/04/18' '09/04/18' '10/04/18' '11/04/18' '12/04/18'\n",
            " '13/04/18' '14/04/18' '15/04/18' '16/04/18' '17/04/18' '18/04/18'\n",
            " '19/04/18' '20/04/18' '21/04/18' '22/04/18' '23/04/18' '24/04/18'\n",
            " '25/04/18' '26/04/18' '27/04/18' '28/04/18' '29/04/18' '30/04/18'\n",
            " '01/05/18' '02/05/18' '03/05/18' '04/05/18' '05/05/18' '06/05/18'\n",
            " '07/05/18' '08/05/18' '09/05/18' '10/05/18' '11/05/18' '12/05/18'\n",
            " '13/05/18' '14/05/18' '15/05/18' '16/05/18' '17/05/18' '18/05/18'\n",
            " '19/05/18' '20/05/18' '22/05/18' '23/05/18' '25/05/18' '27/05/18'\n",
            " '23/03/19' '24/03/19' '25/03/19' '26/03/19' '27/03/19' '28/03/19'\n",
            " '29/03/19' '30/03/19' '31/03/19' '01/04/19' '02/04/19' '03/04/19'\n",
            " '04/04/19' '05/04/19' '06/04/19' '07/04/19' '08/04/19' '09/04/19'\n",
            " '10/04/19' '11/04/19' '12/04/19' '13/04/19' '14/04/19' '15/04/19'\n",
            " '16/04/19' '17/04/19' '18/04/19' '19/04/19' '20/04/19' '21/04/19'\n",
            " '22/04/19' '23/04/19' '24/04/19' '25/04/19' '26/04/19' '27/04/19'\n",
            " '28/04/19' '29/04/19' '30/04/19' '01/05/19' '02/05/19' '03/05/19'\n",
            " '04/05/19' '05/05/19' '07/05/19' '08/05/19' '10/05/19' '12/05/19']\n",
            "['Sunrisers Hyderabad' 'Mumbai Indians' 'Gujarat Lions'\n",
            " 'Rising Pune Supergiant' 'Royal Challengers Bangalore'\n",
            " 'Kolkata Knight Riders' 'Delhi Daredevils' 'Kings XI Punjab'\n",
            " 'Chennai Super Kings' 'Rajasthan Royals' 'Deccan Chargers'\n",
            " 'Kochi Tuskers Kerala' 'Pune Warriors' 'Rising Pune Supergiants'\n",
            " 'Delhi Capitals']\n",
            "['Royal Challengers Bangalore' 'Rising Pune Supergiant'\n",
            " 'Kolkata Knight Riders' 'Kings XI Punjab' 'Delhi Daredevils'\n",
            " 'Sunrisers Hyderabad' 'Mumbai Indians' 'Gujarat Lions' 'Rajasthan Royals'\n",
            " 'Chennai Super Kings' 'Deccan Chargers' 'Pune Warriors'\n",
            " 'Kochi Tuskers Kerala' 'Rising Pune Supergiants' 'Delhi Capitals']\n",
            "['Royal Challengers Bangalore' 'Rising Pune Supergiant'\n",
            " 'Kolkata Knight Riders' 'Kings XI Punjab' 'Sunrisers Hyderabad'\n",
            " 'Mumbai Indians' 'Gujarat Lions' 'Delhi Daredevils' 'Chennai Super Kings'\n",
            " 'Rajasthan Royals' 'Deccan Chargers' 'Kochi Tuskers Kerala'\n",
            " 'Pune Warriors' 'Rising Pune Supergiants' 'Delhi Capitals']\n",
            "['field' 'bat']\n",
            "['normal' 'tie' 'no result']\n",
            "[0 1]\n",
            "['Sunrisers Hyderabad' 'Rising Pune Supergiant' 'Kolkata Knight Riders'\n",
            " 'Kings XI Punjab' 'Royal Challengers Bangalore' 'Mumbai Indians'\n",
            " 'Delhi Daredevils' 'Gujarat Lions' 'Chennai Super Kings'\n",
            " 'Rajasthan Royals' 'Deccan Chargers' 'Pune Warriors'\n",
            " 'Kochi Tuskers Kerala' nan 'Rising Pune Supergiants' 'Delhi Capitals']\n",
            "[ 35   0  15  97  17  51  27   5  21  14  26  82   3  61  48  19  12 146\n",
            "   7   9  10  20   1 140  33   6  66  13  45  29  18  23  41  65  25 105\n",
            "  75  92  11  24  38   8  78  16  53   2   4  31  55  98  34  36  39  40\n",
            "  67  63  37  57  22  85  32  76 111  43  58  28  74  42  59  46  47  86\n",
            "  44  87 130  60  77  30  50  93  72  62 138  71 144  80  64 102 118]\n",
            "[ 0  7 10  6  9  4  8  5  2  3  1]\n",
            "['Yuvraj Singh' 'SPD Smith' 'CA Lynn' 'GJ Maxwell' 'KM Jadhav'\n",
            " 'Rashid Khan' 'N Rana' 'AR Patel' 'SV Samson' 'JJ Bumrah' 'SP Narine'\n",
            " 'KA Pollard' 'AJ Tye' 'RV Uthappa' 'CJ Anderson' 'BA Stokes'\n",
            " 'NM Coulter-Nile' 'B Kumar' 'CH Gayle' 'KS Williamson' 'JC Buttler'\n",
            " 'SK Raina' 'MJ McClenaghan' 'MS Dhoni' 'HM Amla' 'G Gambhir'\n",
            " 'LH Ferguson' 'KH Pandya' 'Sandeep Sharma' 'DA Warner' 'RG Sharma'\n",
            " 'Mohammed Shami' 'RA Tripathi' 'RR Pant' 'JD Unadkat' 'LMP Simmons'\n",
            " 'DR Smith' 'S Dhawan' 'MM Sharma' 'SS Iyer' 'WP Saha' 'KK Nair'\n",
            " 'Mohammed Siraj' 'AT Rayudu' 'HV Patel' 'Washington Sundar' 'KV Sharma'\n",
            " 'BB McCullum' 'MEK Hussey' 'MF Maharoof' 'MV Boucher' 'DJ Hussey'\n",
            " 'SR Watson' 'V Sehwag' 'ML Hayden' 'YK Pathan' 'KC Sangakkara' 'JDP Oram'\n",
            " 'AC Gilchrist' 'SM Katich' 'ST Jayasuriya' 'GD McGrath' 'SE Marsh'\n",
            " 'SA Asnodkar' 'R Vinay Kumar' 'IK Pathan' 'SM Pollock' 'Sohail Tanvir'\n",
            " 'S Sreesanth' 'A Nehra' 'SC Ganguly' 'CRD Fernando' 'L Balaji'\n",
            " 'Shoaib Akhtar' 'A Mishra' 'DPMD Jayawardene' 'GC Smith' 'DJ Bravo'\n",
            " 'M Ntini' 'SP Goswami' 'A Kumble' 'KD Karthik' 'JA Morkel' 'P Kumar'\n",
            " 'Umar Gul' 'SR Tendulkar' 'R Dravid' 'DL Vettori' 'RP Singh'\n",
            " 'M Muralitharan' 'AB de Villiers' 'RS Bopara' 'PP Ojha' 'TM Dilshan'\n",
            " 'HH Gibbs' 'DP Nannes' 'JP Duminy' 'SB Jakati' 'JH Kallis' 'A Singh'\n",
            " 'S Badrinath' 'LRPL Taylor' 'Harbhajan Singh' 'R Bhatia' 'SK Warne'\n",
            " 'B Lee' 'BJ Hodge' 'LR Shukla' 'MK Pandey' 'AD Mathews' 'MK Tiwary'\n",
            " 'WPUJC Vaas' 'A Symonds' 'AA Jhunjhunwala' 'J Theron' 'AC Voges'\n",
            " 'NV Ojha' 'SL Malinga' 'M Vijay' 'KP Pietersen' 'PD Collingwood'\n",
            " 'MJ Lumb' 'TL Suman' 'RJ Harris' 'PP Chawla' 'Harmeet Singh' 'R Ashwin'\n",
            " 'R McLaren' 'M Kartik' 'DE Bollinger' 'S Anirudha' 'SK Trivedi' 'SB Wagh'\n",
            " 'PC Valthaty' 'MD Mishra' 'DW Steyn' 'S Sohal' 'MM Patel' 'V Kohli'\n",
            " 'I Sharma' 'J Botha' 'Iqbal Abdulla' 'P Parameswaran' 'R Sharma'\n",
            " 'MR Marsh' 'BA Bhatt' 'S Aravind' nan 'JEC Franklin' 'RE Levi'\n",
            " 'AM Rahane' 'RA Jadeja' 'MN Samuels' 'M Morkel' 'F du Plessis'\n",
            " 'AD Mascarenhas' 'Shakib Al Hasan' 'JD Ryder' 'S Nadeem'\n",
            " 'KMDN Kulasekara' 'CL White' 'Mandeep Singh' 'P Negi' 'Azhar Mahmood'\n",
            " 'BW Hilfenhaus' 'A Chandila' 'UT Yadav' 'MS Bisla' 'M Vohra' 'GH Vihari'\n",
            " 'AJ Finch' 'JP Faulkner' 'MS Gony' 'DA Miller' 'DJG Sammy' 'MG Johnson'\n",
            " 'KK Cooper' 'PA Patel' 'AP Tare' 'LJ Wright' 'YS Chahal' 'PV Tambe'\n",
            " 'DJ Hooda' 'GJ Bailey' 'AD Russell' 'MA Agarwal' 'MA Starc' 'VR Aaron'\n",
            " 'TA Boult' 'EJG Morgan' 'HH Pandya' 'MC Henriques' 'Z Khan' 'Q de Kock'\n",
            " 'Mustafizur Rahman' 'SA Yadav' 'AB Dinda' 'CH Morris' 'CR Brathwaite'\n",
            " 'MP Stoinis' 'A Zampa' 'BCJ Cutting' 'KL Rahul' 'SW Billings' 'JJ Roy'\n",
            " 'B Stanlake' 'J Archer' 'AS Rajpoot' 'TG Southee' 'AS Yadav'\n",
            " 'M Ur Rahman' 'Ishan Kishan' 'Kuldeep Yadav' 'S Gopal' 'L Ngidi' 'P Shaw'\n",
            " 'J Bairstow' 'S Curran' 'A Joseph' 'K Rabada' 'H Gurney' 'DL Chahar'\n",
            " 'Imran Tahir' 'K Paul' 'K Ahmed' 'S Gill' 'S Hetmyer']\n",
            "['Rajiv Gandhi International Stadium, Uppal'\n",
            " 'Maharashtra Cricket Association Stadium'\n",
            " 'Saurashtra Cricket Association Stadium' 'Holkar Cricket Stadium'\n",
            " 'M Chinnaswamy Stadium' 'Wankhede Stadium' 'Eden Gardens'\n",
            " 'Feroz Shah Kotla' 'Punjab Cricket Association IS Bindra Stadium, Mohali'\n",
            " 'Green Park' 'Punjab Cricket Association Stadium, Mohali'\n",
            " 'Sawai Mansingh Stadium' 'MA Chidambaram Stadium, Chepauk'\n",
            " 'Dr DY Patil Sports Academy' 'Newlands' \"St George's Park\" 'Kingsmead'\n",
            " 'SuperSport Park' 'Buffalo Park' 'New Wanderers Stadium'\n",
            " 'De Beers Diamond Oval' 'OUTsurance Oval' 'Brabourne Stadium'\n",
            " 'Sardar Patel Stadium, Motera' 'Barabati Stadium'\n",
            " 'Vidarbha Cricket Association Stadium, Jamtha'\n",
            " 'Himachal Pradesh Cricket Association Stadium' 'Nehru Stadium'\n",
            " 'Dr. Y.S. Rajasekhara Reddy ACA-VDCA Cricket Stadium'\n",
            " 'Subrata Roy Sahara Stadium'\n",
            " 'Shaheed Veer Narayan Singh International Stadium'\n",
            " 'JSCA International Stadium Complex' 'Sheikh Zayed Stadium'\n",
            " 'Sharjah Cricket Stadium' 'Dubai International Cricket Stadium'\n",
            " 'M. A. Chidambaram Stadium' 'Feroz Shah Kotla Ground'\n",
            " 'M. Chinnaswamy Stadium' 'Rajiv Gandhi Intl. Cricket Stadium'\n",
            " 'IS Bindra Stadium' 'ACA-VDCA Stadium']\n",
            "['AY Dandekar' 'A Nand Kishore' 'Nitin Menon' 'AK Chaudhary' nan\n",
            " 'A Deshmukh' 'KN Ananthapadmanabhan' 'YC Barde' 'S Ravi' 'CB Gaffaney'\n",
            " 'M Erasmus' 'NJ Llong' 'CK Nandan' 'Asad Rauf' 'MR Benson' 'Aleem Dar'\n",
            " 'SJ Davis' 'BF Bowden' 'IL Howell' 'DJ Harper' 'RE Koertzen'\n",
            " 'BR Doctrove' 'AV Jayaprakash' 'BG Jerling' 'HDPK Dharmasena' 'S Asnani'\n",
            " 'GAV Baxter' 'SS Hazare' 'K Hariharan' 'SL Shastri' 'SK Tarapore'\n",
            " 'SJA Taufel' 'S Das' 'AM Saheba' 'PR Reiffel' 'JD Cloete' 'VA Kulkarni'\n",
            " 'BNJ Oxenford' 'C Shamshuddin' 'RK Illingworth' 'RM Deshpande'\n",
            " 'K Srinath' 'SD Fry' 'PG Pathak' 'K Bharatan' 'Chris Gaffaney'\n",
            " 'Rod Tucker' 'Nigel Llong' 'Anil Chaudhary' 'K Ananthapadmanabhan'\n",
            " 'O Nandan' 'A Nanda Kishore' 'Vineet Kulkarni' 'Bruce Oxenford'\n",
            " 'Marais Erasmus' 'Kumar Dharmasena' 'Anil Dandekar' 'Yeshwant Barde'\n",
            " 'Ian Gould' 'Ulhas Gandhe' 'Nanda Kishore' 'Sundaram Ravi']\n",
            "['NJ Llong' 'S Ravi' 'CK Nandan' 'C Shamshuddin' nan 'AK Chaudhary'\n",
            " 'Nitin Menon' 'A Deshmukh' 'VK Sharma' 'M Erasmus' 'CB Gaffaney'\n",
            " 'A Nand Kishore' 'RE Koertzen' 'SL Shastri' 'GA Pratapkumar' 'DJ Harper'\n",
            " 'K Hariharan' 'RB Tiffin' 'AM Saheba' 'MR Benson' 'IL Howell'\n",
            " 'AV Jayaprakash' 'I Shivram' 'BR Doctrove' 'BG Jerling' 'SJ Davis'\n",
            " 'SD Ranade' 'SJA Taufel' 'TH Wijewardene' 'SK Tarapore' 'HDPK Dharmasena'\n",
            " 'SS Hazare' 'PR Reiffel' 'AL Hill' 'RJ Tucker' 'VA Kulkarni' 'JD Cloete'\n",
            " 'BNJ Oxenford' 'S Asnani' 'S Das' 'K Srinath' 'Subroto Das'\n",
            " 'RK Illingworth' 'PG Pathak' 'K Srinivasan' 'SD Fry' 'A Nanda Kishore'\n",
            " 'K Ananthapadmanabhan' 'A.D Deshmukh' 'Vineet Kulkarni' 'Chris Gaffaney'\n",
            " 'Rod Tucker' 'Nigel Llong' 'Anil Chaudhary' 'O Nandan'\n",
            " 'Virender Kumar Sharma' 'Yeshwant Barde' 'Anil Dandekar'\n",
            " 'Kumar Dharmasena' 'KN Anantapadmanabhan' 'Ulhas Gandhe' 'Nanda Kishore'\n",
            " 'Bruce Oxenford' 'Nand Kishore' 'KN Ananthapadmanabhan' 'Ian Gould']\n",
            "[nan 'Anil Chaudhary' 'Nitin Menon' 'S Ravi' 'O Nandan' 'A Nanda Kishore'\n",
            " 'Vineet Kulkarni' 'C Shamshuddin' 'Rod Tucker' 'Chris Gaffaney'\n",
            " 'A.D Deshmukh' 'Nigel Llong' 'K Ananthapadmanabhan' 'Anil Dandekar'\n",
            " 'Virender Kumar Sharma' 'Yeshwant Barde' 'Bruce Oxenford'\n",
            " 'Marais Erasmus' 'Kumar Dharmasena' 'KN Anantapadmanabhan' 'Ulhas Gandhe'\n",
            " 'Nanda Kishore' 'Ian Gould' 'Sundaram Ravi' 'KN Ananthapadmanabhan'\n",
            " 'Chettithody Shamshuddin']\n"
          ]
        }
      ],
      "source": [
        "for col in ipl_matches_df:\n",
        "    print(ipl_matches_df[col].unique())\n"
      ]
    },
    {
      "cell_type": "markdown",
      "metadata": {
        "id": "NefNRRFYBDUI"
      },
      "source": [
        "The dataset has <b>18 columns</b>. Let's get acquainted with the columns.\n",
        "* <b>id</b>: The IPL match id.\n",
        "* <b>season</b>: The IPL season\n",
        "* <b>city</b>: The city where the IPL match was held.\n",
        "* <b>date</b>: The date on which the match was held.\n",
        "* <b>team1</b>: One of the teams of the IPL match\n",
        "* <b>team2</b>: The other team of the IPL match\n",
        "* <b>toss_winner</b>: The team that won the toss\n",
        "* <b>toss_decision</b>: The decision taken by the team that won the toss to 'bat' or 'field'\n",
        "* <b>result</b>: The result('normal', 'tie', 'no result') of the match.\n",
        "* <b>dl_applied</b>: (1 or 0)indicates whether Duckworth-Lewis rule was applied or not.\n",
        "* <b>winner</b>: The winner of the match.\n",
        "* <b>win_by_runs</b>: Provides the runs by which the team batting first won\n",
        "* <b>win_by_runs</b>: Provides the number of wickets by which the team batting second won.\n",
        "* <b>player_of_match</b>: The outstanding player of the match.\n",
        "* <b>venue</b>: The venue where the match was hosted.\n",
        "* <b>umpire1</b>: One of the two on-field umpires who officiate the match.\n",
        "* <b>umpire2</b>: One of the two on-field umpires who officiate the match.\n",
        "* <b>umpire3</b>: The off-field umpire who officiates the match"
      ]
    },
    {
      "cell_type": "markdown",
      "metadata": {
        "id": "Nfe8Oc1YBDUI"
      },
      "source": [
        "A mere glance of the DataFrame through its columns indicates the presence of NaN values in the 'umpire3' column. Let's see the count of NaN values in the column."
      ]
    },
    {
      "cell_type": "code",
      "execution_count": null,
      "metadata": {
        "id": "iyEgsNMqBDUI",
        "outputId": "abc5efdc-b0f4-489d-cd30-1dd0eeb25b2e"
      },
      "outputs": [
        {
          "data": {
            "text/plain": [
              "636"
            ]
          },
          "execution_count": 16,
          "metadata": {},
          "output_type": "execute_result"
        }
      ],
      "source": [
        "#the first index that doesn't contain a NaN value\n",
        "ipl_matches_df.umpire3.first_valid_index()"
      ]
    },
    {
      "cell_type": "code",
      "execution_count": null,
      "metadata": {
        "id": "xIlPWv2TBDUI",
        "outputId": "ed44e74c-a638-4aaf-da70-e412e72a4061"
      },
      "outputs": [
        {
          "data": {
            "text/html": [
              "<div>\n",
              "<style scoped>\n",
              "    .dataframe tbody tr th:only-of-type {\n",
              "        vertical-align: middle;\n",
              "    }\n",
              "\n",
              "    .dataframe tbody tr th {\n",
              "        vertical-align: top;\n",
              "    }\n",
              "\n",
              "    .dataframe thead th {\n",
              "        text-align: right;\n",
              "    }\n",
              "</style>\n",
              "<table border=\"1\" class=\"dataframe\">\n",
              "  <thead>\n",
              "    <tr style=\"text-align: right;\">\n",
              "      <th></th>\n",
              "      <th>id</th>\n",
              "      <th>season</th>\n",
              "      <th>city</th>\n",
              "      <th>date</th>\n",
              "      <th>team1</th>\n",
              "      <th>team2</th>\n",
              "      <th>toss_winner</th>\n",
              "      <th>toss_decision</th>\n",
              "      <th>result</th>\n",
              "      <th>dl_applied</th>\n",
              "      <th>winner</th>\n",
              "      <th>win_by_runs</th>\n",
              "      <th>win_by_wickets</th>\n",
              "      <th>player_of_match</th>\n",
              "      <th>venue</th>\n",
              "      <th>umpire1</th>\n",
              "      <th>umpire2</th>\n",
              "      <th>umpire3</th>\n",
              "    </tr>\n",
              "  </thead>\n",
              "  <tbody>\n",
              "    <tr>\n",
              "      <th>633</th>\n",
              "      <td>634</td>\n",
              "      <td>2016</td>\n",
              "      <td>Delhi</td>\n",
              "      <td>2016-05-25</td>\n",
              "      <td>Sunrisers Hyderabad</td>\n",
              "      <td>Kolkata Knight Riders</td>\n",
              "      <td>Kolkata Knight Riders</td>\n",
              "      <td>field</td>\n",
              "      <td>normal</td>\n",
              "      <td>0</td>\n",
              "      <td>Sunrisers Hyderabad</td>\n",
              "      <td>22</td>\n",
              "      <td>0</td>\n",
              "      <td>MC Henriques</td>\n",
              "      <td>Feroz Shah Kotla</td>\n",
              "      <td>M Erasmus</td>\n",
              "      <td>C Shamshuddin</td>\n",
              "      <td>NaN</td>\n",
              "    </tr>\n",
              "    <tr>\n",
              "      <th>634</th>\n",
              "      <td>635</td>\n",
              "      <td>2016</td>\n",
              "      <td>Delhi</td>\n",
              "      <td>2016-05-27</td>\n",
              "      <td>Gujarat Lions</td>\n",
              "      <td>Sunrisers Hyderabad</td>\n",
              "      <td>Sunrisers Hyderabad</td>\n",
              "      <td>field</td>\n",
              "      <td>normal</td>\n",
              "      <td>0</td>\n",
              "      <td>Sunrisers Hyderabad</td>\n",
              "      <td>0</td>\n",
              "      <td>4</td>\n",
              "      <td>DA Warner</td>\n",
              "      <td>Feroz Shah Kotla</td>\n",
              "      <td>M Erasmus</td>\n",
              "      <td>CK Nandan</td>\n",
              "      <td>NaN</td>\n",
              "    </tr>\n",
              "    <tr>\n",
              "      <th>635</th>\n",
              "      <td>636</td>\n",
              "      <td>2016</td>\n",
              "      <td>Bangalore</td>\n",
              "      <td>2016-05-29</td>\n",
              "      <td>Sunrisers Hyderabad</td>\n",
              "      <td>Royal Challengers Bangalore</td>\n",
              "      <td>Sunrisers Hyderabad</td>\n",
              "      <td>bat</td>\n",
              "      <td>normal</td>\n",
              "      <td>0</td>\n",
              "      <td>Sunrisers Hyderabad</td>\n",
              "      <td>8</td>\n",
              "      <td>0</td>\n",
              "      <td>BCJ Cutting</td>\n",
              "      <td>M Chinnaswamy Stadium</td>\n",
              "      <td>HDPK Dharmasena</td>\n",
              "      <td>BNJ Oxenford</td>\n",
              "      <td>NaN</td>\n",
              "    </tr>\n",
              "    <tr>\n",
              "      <th>636</th>\n",
              "      <td>7894</td>\n",
              "      <td>2018</td>\n",
              "      <td>Mumbai</td>\n",
              "      <td>07/04/18</td>\n",
              "      <td>Mumbai Indians</td>\n",
              "      <td>Chennai Super Kings</td>\n",
              "      <td>Chennai Super Kings</td>\n",
              "      <td>field</td>\n",
              "      <td>normal</td>\n",
              "      <td>0</td>\n",
              "      <td>Chennai Super Kings</td>\n",
              "      <td>0</td>\n",
              "      <td>1</td>\n",
              "      <td>DJ Bravo</td>\n",
              "      <td>Wankhede Stadium</td>\n",
              "      <td>Chris Gaffaney</td>\n",
              "      <td>A Nanda Kishore</td>\n",
              "      <td>Anil Chaudhary</td>\n",
              "    </tr>\n",
              "    <tr>\n",
              "      <th>637</th>\n",
              "      <td>7895</td>\n",
              "      <td>2018</td>\n",
              "      <td>Mohali</td>\n",
              "      <td>08/04/18</td>\n",
              "      <td>Delhi Daredevils</td>\n",
              "      <td>Kings XI Punjab</td>\n",
              "      <td>Kings XI Punjab</td>\n",
              "      <td>field</td>\n",
              "      <td>normal</td>\n",
              "      <td>0</td>\n",
              "      <td>Kings XI Punjab</td>\n",
              "      <td>0</td>\n",
              "      <td>6</td>\n",
              "      <td>KL Rahul</td>\n",
              "      <td>Punjab Cricket Association IS Bindra Stadium, ...</td>\n",
              "      <td>Rod Tucker</td>\n",
              "      <td>K Ananthapadmanabhan</td>\n",
              "      <td>Nitin Menon</td>\n",
              "    </tr>\n",
              "    <tr>\n",
              "      <th>638</th>\n",
              "      <td>7896</td>\n",
              "      <td>2018</td>\n",
              "      <td>Kolkata</td>\n",
              "      <td>08/04/18</td>\n",
              "      <td>Royal Challengers Bangalore</td>\n",
              "      <td>Kolkata Knight Riders</td>\n",
              "      <td>Kolkata Knight Riders</td>\n",
              "      <td>field</td>\n",
              "      <td>normal</td>\n",
              "      <td>0</td>\n",
              "      <td>Kolkata Knight Riders</td>\n",
              "      <td>0</td>\n",
              "      <td>4</td>\n",
              "      <td>SP Narine</td>\n",
              "      <td>Eden Gardens</td>\n",
              "      <td>C Shamshuddin</td>\n",
              "      <td>A.D Deshmukh</td>\n",
              "      <td>S Ravi</td>\n",
              "    </tr>\n",
              "    <tr>\n",
              "      <th>639</th>\n",
              "      <td>7897</td>\n",
              "      <td>2018</td>\n",
              "      <td>Hyderabad</td>\n",
              "      <td>09/04/18</td>\n",
              "      <td>Rajasthan Royals</td>\n",
              "      <td>Sunrisers Hyderabad</td>\n",
              "      <td>Sunrisers Hyderabad</td>\n",
              "      <td>field</td>\n",
              "      <td>normal</td>\n",
              "      <td>0</td>\n",
              "      <td>Sunrisers Hyderabad</td>\n",
              "      <td>0</td>\n",
              "      <td>9</td>\n",
              "      <td>S Dhawan</td>\n",
              "      <td>Rajiv Gandhi International Stadium, Uppal</td>\n",
              "      <td>Nigel Llong</td>\n",
              "      <td>Vineet Kulkarni</td>\n",
              "      <td>O Nandan</td>\n",
              "    </tr>\n",
              "    <tr>\n",
              "      <th>640</th>\n",
              "      <td>7898</td>\n",
              "      <td>2018</td>\n",
              "      <td>Chennai</td>\n",
              "      <td>10/04/18</td>\n",
              "      <td>Kolkata Knight Riders</td>\n",
              "      <td>Chennai Super Kings</td>\n",
              "      <td>Chennai Super Kings</td>\n",
              "      <td>field</td>\n",
              "      <td>normal</td>\n",
              "      <td>0</td>\n",
              "      <td>Chennai Super Kings</td>\n",
              "      <td>0</td>\n",
              "      <td>5</td>\n",
              "      <td>SW Billings</td>\n",
              "      <td>MA Chidambaram Stadium, Chepauk</td>\n",
              "      <td>Anil Chaudhary</td>\n",
              "      <td>Chris Gaffaney</td>\n",
              "      <td>A Nanda Kishore</td>\n",
              "    </tr>\n",
              "  </tbody>\n",
              "</table>\n",
              "</div>"
            ],
            "text/plain": [
              "       id  season       city        date                        team1  \\\n",
              "633   634    2016      Delhi  2016-05-25          Sunrisers Hyderabad   \n",
              "634   635    2016      Delhi  2016-05-27                Gujarat Lions   \n",
              "635   636    2016  Bangalore  2016-05-29          Sunrisers Hyderabad   \n",
              "636  7894    2018     Mumbai    07/04/18               Mumbai Indians   \n",
              "637  7895    2018     Mohali    08/04/18             Delhi Daredevils   \n",
              "638  7896    2018    Kolkata    08/04/18  Royal Challengers Bangalore   \n",
              "639  7897    2018  Hyderabad    09/04/18             Rajasthan Royals   \n",
              "640  7898    2018    Chennai    10/04/18        Kolkata Knight Riders   \n",
              "\n",
              "                           team2            toss_winner toss_decision  result  \\\n",
              "633        Kolkata Knight Riders  Kolkata Knight Riders         field  normal   \n",
              "634          Sunrisers Hyderabad    Sunrisers Hyderabad         field  normal   \n",
              "635  Royal Challengers Bangalore    Sunrisers Hyderabad           bat  normal   \n",
              "636          Chennai Super Kings    Chennai Super Kings         field  normal   \n",
              "637              Kings XI Punjab        Kings XI Punjab         field  normal   \n",
              "638        Kolkata Knight Riders  Kolkata Knight Riders         field  normal   \n",
              "639          Sunrisers Hyderabad    Sunrisers Hyderabad         field  normal   \n",
              "640          Chennai Super Kings    Chennai Super Kings         field  normal   \n",
              "\n",
              "     dl_applied                 winner  win_by_runs  win_by_wickets  \\\n",
              "633           0    Sunrisers Hyderabad           22               0   \n",
              "634           0    Sunrisers Hyderabad            0               4   \n",
              "635           0    Sunrisers Hyderabad            8               0   \n",
              "636           0    Chennai Super Kings            0               1   \n",
              "637           0        Kings XI Punjab            0               6   \n",
              "638           0  Kolkata Knight Riders            0               4   \n",
              "639           0    Sunrisers Hyderabad            0               9   \n",
              "640           0    Chennai Super Kings            0               5   \n",
              "\n",
              "    player_of_match                                              venue  \\\n",
              "633    MC Henriques                                   Feroz Shah Kotla   \n",
              "634       DA Warner                                   Feroz Shah Kotla   \n",
              "635     BCJ Cutting                              M Chinnaswamy Stadium   \n",
              "636        DJ Bravo                                   Wankhede Stadium   \n",
              "637        KL Rahul  Punjab Cricket Association IS Bindra Stadium, ...   \n",
              "638       SP Narine                                       Eden Gardens   \n",
              "639        S Dhawan          Rajiv Gandhi International Stadium, Uppal   \n",
              "640     SW Billings                    MA Chidambaram Stadium, Chepauk   \n",
              "\n",
              "             umpire1               umpire2          umpire3  \n",
              "633        M Erasmus         C Shamshuddin              NaN  \n",
              "634        M Erasmus             CK Nandan              NaN  \n",
              "635  HDPK Dharmasena          BNJ Oxenford              NaN  \n",
              "636   Chris Gaffaney       A Nanda Kishore   Anil Chaudhary  \n",
              "637       Rod Tucker  K Ananthapadmanabhan      Nitin Menon  \n",
              "638    C Shamshuddin          A.D Deshmukh           S Ravi  \n",
              "639      Nigel Llong       Vineet Kulkarni         O Nandan  \n",
              "640   Anil Chaudhary        Chris Gaffaney  A Nanda Kishore  "
            ]
          },
          "execution_count": 17,
          "metadata": {},
          "output_type": "execute_result"
        }
      ],
      "source": [
        "#Confirming the first valid index\n",
        "ipl_matches_df.loc[633:640]"
      ]
    },
    {
      "cell_type": "markdown",
      "metadata": {
        "id": "jBmnogBNBDUI"
      },
      "source": [
        "It's imperative to know the count of NaN values for each column before we proceed further."
      ]
    },
    {
      "cell_type": "code",
      "execution_count": null,
      "metadata": {
        "id": "WUvYxvShBDUI",
        "outputId": "079623ca-52af-488c-af8b-05c9b69ed4fc"
      },
      "outputs": [
        {
          "data": {
            "text/plain": [
              "id                   0\n",
              "season               0\n",
              "city                 7\n",
              "date                 0\n",
              "team1                0\n",
              "team2                0\n",
              "toss_winner          0\n",
              "toss_decision        0\n",
              "result               0\n",
              "dl_applied           0\n",
              "winner               4\n",
              "win_by_runs          0\n",
              "win_by_wickets       0\n",
              "player_of_match      4\n",
              "venue                0\n",
              "umpire1              2\n",
              "umpire2              2\n",
              "umpire3            637\n",
              "dtype: int64"
            ]
          },
          "execution_count": 18,
          "metadata": {},
          "output_type": "execute_result"
        }
      ],
      "source": [
        "ipl_matches_df.isnull().sum()"
      ]
    },
    {
      "cell_type": "markdown",
      "metadata": {
        "id": "KeeJzq7hBDUJ"
      },
      "source": [
        "The column 'umpire3' has a significant number of NaN values. As the off-field umpire parameter is insignificant, we can drop this column. The other columns that have Nan values are of type object(Pandas equivalent of Python String data type) and are very few in number(<=7)."
      ]
    },
    {
      "cell_type": "code",
      "execution_count": null,
      "metadata": {
        "id": "tUH866S4BDUJ"
      },
      "outputs": [],
      "source": [
        "ipl_matches_df = ipl_matches_df.drop(columns=['umpire3'], axis=1)"
      ]
    },
    {
      "cell_type": "markdown",
      "metadata": {
        "id": "-ed4NkGiBDUJ"
      },
      "source": [
        "Ensure that the DataFrame is devoid of the 'umpire3' column."
      ]
    },
    {
      "cell_type": "code",
      "execution_count": null,
      "metadata": {
        "id": "nlSNBKQ7BDUJ",
        "outputId": "2f6a5f4c-5a0e-4d13-ac39-011678c45a4b"
      },
      "outputs": [
        {
          "data": {
            "text/html": [
              "<div>\n",
              "<style scoped>\n",
              "    .dataframe tbody tr th:only-of-type {\n",
              "        vertical-align: middle;\n",
              "    }\n",
              "\n",
              "    .dataframe tbody tr th {\n",
              "        vertical-align: top;\n",
              "    }\n",
              "\n",
              "    .dataframe thead th {\n",
              "        text-align: right;\n",
              "    }\n",
              "</style>\n",
              "<table border=\"1\" class=\"dataframe\">\n",
              "  <thead>\n",
              "    <tr style=\"text-align: right;\">\n",
              "      <th></th>\n",
              "      <th>id</th>\n",
              "      <th>season</th>\n",
              "      <th>city</th>\n",
              "      <th>date</th>\n",
              "      <th>team1</th>\n",
              "      <th>team2</th>\n",
              "      <th>toss_winner</th>\n",
              "      <th>toss_decision</th>\n",
              "      <th>result</th>\n",
              "      <th>dl_applied</th>\n",
              "      <th>winner</th>\n",
              "      <th>win_by_runs</th>\n",
              "      <th>win_by_wickets</th>\n",
              "      <th>player_of_match</th>\n",
              "      <th>venue</th>\n",
              "      <th>umpire1</th>\n",
              "      <th>umpire2</th>\n",
              "    </tr>\n",
              "  </thead>\n",
              "  <tbody>\n",
              "    <tr>\n",
              "      <th>0</th>\n",
              "      <td>1</td>\n",
              "      <td>2017</td>\n",
              "      <td>Hyderabad</td>\n",
              "      <td>2017-04-05</td>\n",
              "      <td>Sunrisers Hyderabad</td>\n",
              "      <td>Royal Challengers Bangalore</td>\n",
              "      <td>Royal Challengers Bangalore</td>\n",
              "      <td>field</td>\n",
              "      <td>normal</td>\n",
              "      <td>0</td>\n",
              "      <td>Sunrisers Hyderabad</td>\n",
              "      <td>35</td>\n",
              "      <td>0</td>\n",
              "      <td>Yuvraj Singh</td>\n",
              "      <td>Rajiv Gandhi International Stadium, Uppal</td>\n",
              "      <td>AY Dandekar</td>\n",
              "      <td>NJ Llong</td>\n",
              "    </tr>\n",
              "    <tr>\n",
              "      <th>1</th>\n",
              "      <td>2</td>\n",
              "      <td>2017</td>\n",
              "      <td>Pune</td>\n",
              "      <td>2017-04-06</td>\n",
              "      <td>Mumbai Indians</td>\n",
              "      <td>Rising Pune Supergiant</td>\n",
              "      <td>Rising Pune Supergiant</td>\n",
              "      <td>field</td>\n",
              "      <td>normal</td>\n",
              "      <td>0</td>\n",
              "      <td>Rising Pune Supergiant</td>\n",
              "      <td>0</td>\n",
              "      <td>7</td>\n",
              "      <td>SPD Smith</td>\n",
              "      <td>Maharashtra Cricket Association Stadium</td>\n",
              "      <td>A Nand Kishore</td>\n",
              "      <td>S Ravi</td>\n",
              "    </tr>\n",
              "    <tr>\n",
              "      <th>2</th>\n",
              "      <td>3</td>\n",
              "      <td>2017</td>\n",
              "      <td>Rajkot</td>\n",
              "      <td>2017-04-07</td>\n",
              "      <td>Gujarat Lions</td>\n",
              "      <td>Kolkata Knight Riders</td>\n",
              "      <td>Kolkata Knight Riders</td>\n",
              "      <td>field</td>\n",
              "      <td>normal</td>\n",
              "      <td>0</td>\n",
              "      <td>Kolkata Knight Riders</td>\n",
              "      <td>0</td>\n",
              "      <td>10</td>\n",
              "      <td>CA Lynn</td>\n",
              "      <td>Saurashtra Cricket Association Stadium</td>\n",
              "      <td>Nitin Menon</td>\n",
              "      <td>CK Nandan</td>\n",
              "    </tr>\n",
              "    <tr>\n",
              "      <th>3</th>\n",
              "      <td>4</td>\n",
              "      <td>2017</td>\n",
              "      <td>Indore</td>\n",
              "      <td>2017-04-08</td>\n",
              "      <td>Rising Pune Supergiant</td>\n",
              "      <td>Kings XI Punjab</td>\n",
              "      <td>Kings XI Punjab</td>\n",
              "      <td>field</td>\n",
              "      <td>normal</td>\n",
              "      <td>0</td>\n",
              "      <td>Kings XI Punjab</td>\n",
              "      <td>0</td>\n",
              "      <td>6</td>\n",
              "      <td>GJ Maxwell</td>\n",
              "      <td>Holkar Cricket Stadium</td>\n",
              "      <td>AK Chaudhary</td>\n",
              "      <td>C Shamshuddin</td>\n",
              "    </tr>\n",
              "    <tr>\n",
              "      <th>4</th>\n",
              "      <td>5</td>\n",
              "      <td>2017</td>\n",
              "      <td>Bangalore</td>\n",
              "      <td>2017-04-08</td>\n",
              "      <td>Royal Challengers Bangalore</td>\n",
              "      <td>Delhi Daredevils</td>\n",
              "      <td>Royal Challengers Bangalore</td>\n",
              "      <td>bat</td>\n",
              "      <td>normal</td>\n",
              "      <td>0</td>\n",
              "      <td>Royal Challengers Bangalore</td>\n",
              "      <td>15</td>\n",
              "      <td>0</td>\n",
              "      <td>KM Jadhav</td>\n",
              "      <td>M Chinnaswamy Stadium</td>\n",
              "      <td>NaN</td>\n",
              "      <td>NaN</td>\n",
              "    </tr>\n",
              "    <tr>\n",
              "      <th>5</th>\n",
              "      <td>6</td>\n",
              "      <td>2017</td>\n",
              "      <td>Hyderabad</td>\n",
              "      <td>2017-04-09</td>\n",
              "      <td>Gujarat Lions</td>\n",
              "      <td>Sunrisers Hyderabad</td>\n",
              "      <td>Sunrisers Hyderabad</td>\n",
              "      <td>field</td>\n",
              "      <td>normal</td>\n",
              "      <td>0</td>\n",
              "      <td>Sunrisers Hyderabad</td>\n",
              "      <td>0</td>\n",
              "      <td>9</td>\n",
              "      <td>Rashid Khan</td>\n",
              "      <td>Rajiv Gandhi International Stadium, Uppal</td>\n",
              "      <td>A Deshmukh</td>\n",
              "      <td>NJ Llong</td>\n",
              "    </tr>\n",
              "    <tr>\n",
              "      <th>6</th>\n",
              "      <td>7</td>\n",
              "      <td>2017</td>\n",
              "      <td>Mumbai</td>\n",
              "      <td>2017-04-09</td>\n",
              "      <td>Kolkata Knight Riders</td>\n",
              "      <td>Mumbai Indians</td>\n",
              "      <td>Mumbai Indians</td>\n",
              "      <td>field</td>\n",
              "      <td>normal</td>\n",
              "      <td>0</td>\n",
              "      <td>Mumbai Indians</td>\n",
              "      <td>0</td>\n",
              "      <td>4</td>\n",
              "      <td>N Rana</td>\n",
              "      <td>Wankhede Stadium</td>\n",
              "      <td>Nitin Menon</td>\n",
              "      <td>CK Nandan</td>\n",
              "    </tr>\n",
              "    <tr>\n",
              "      <th>7</th>\n",
              "      <td>8</td>\n",
              "      <td>2017</td>\n",
              "      <td>Indore</td>\n",
              "      <td>2017-04-10</td>\n",
              "      <td>Royal Challengers Bangalore</td>\n",
              "      <td>Kings XI Punjab</td>\n",
              "      <td>Royal Challengers Bangalore</td>\n",
              "      <td>bat</td>\n",
              "      <td>normal</td>\n",
              "      <td>0</td>\n",
              "      <td>Kings XI Punjab</td>\n",
              "      <td>0</td>\n",
              "      <td>8</td>\n",
              "      <td>AR Patel</td>\n",
              "      <td>Holkar Cricket Stadium</td>\n",
              "      <td>AK Chaudhary</td>\n",
              "      <td>C Shamshuddin</td>\n",
              "    </tr>\n",
              "    <tr>\n",
              "      <th>8</th>\n",
              "      <td>9</td>\n",
              "      <td>2017</td>\n",
              "      <td>Pune</td>\n",
              "      <td>2017-04-11</td>\n",
              "      <td>Delhi Daredevils</td>\n",
              "      <td>Rising Pune Supergiant</td>\n",
              "      <td>Rising Pune Supergiant</td>\n",
              "      <td>field</td>\n",
              "      <td>normal</td>\n",
              "      <td>0</td>\n",
              "      <td>Delhi Daredevils</td>\n",
              "      <td>97</td>\n",
              "      <td>0</td>\n",
              "      <td>SV Samson</td>\n",
              "      <td>Maharashtra Cricket Association Stadium</td>\n",
              "      <td>AY Dandekar</td>\n",
              "      <td>S Ravi</td>\n",
              "    </tr>\n",
              "    <tr>\n",
              "      <th>9</th>\n",
              "      <td>10</td>\n",
              "      <td>2017</td>\n",
              "      <td>Mumbai</td>\n",
              "      <td>2017-04-12</td>\n",
              "      <td>Sunrisers Hyderabad</td>\n",
              "      <td>Mumbai Indians</td>\n",
              "      <td>Mumbai Indians</td>\n",
              "      <td>field</td>\n",
              "      <td>normal</td>\n",
              "      <td>0</td>\n",
              "      <td>Mumbai Indians</td>\n",
              "      <td>0</td>\n",
              "      <td>4</td>\n",
              "      <td>JJ Bumrah</td>\n",
              "      <td>Wankhede Stadium</td>\n",
              "      <td>Nitin Menon</td>\n",
              "      <td>CK Nandan</td>\n",
              "    </tr>\n",
              "  </tbody>\n",
              "</table>\n",
              "</div>"
            ],
            "text/plain": [
              "   id  season       city        date                        team1  \\\n",
              "0   1    2017  Hyderabad  2017-04-05          Sunrisers Hyderabad   \n",
              "1   2    2017       Pune  2017-04-06               Mumbai Indians   \n",
              "2   3    2017     Rajkot  2017-04-07                Gujarat Lions   \n",
              "3   4    2017     Indore  2017-04-08       Rising Pune Supergiant   \n",
              "4   5    2017  Bangalore  2017-04-08  Royal Challengers Bangalore   \n",
              "5   6    2017  Hyderabad  2017-04-09                Gujarat Lions   \n",
              "6   7    2017     Mumbai  2017-04-09        Kolkata Knight Riders   \n",
              "7   8    2017     Indore  2017-04-10  Royal Challengers Bangalore   \n",
              "8   9    2017       Pune  2017-04-11             Delhi Daredevils   \n",
              "9  10    2017     Mumbai  2017-04-12          Sunrisers Hyderabad   \n",
              "\n",
              "                         team2                  toss_winner toss_decision  \\\n",
              "0  Royal Challengers Bangalore  Royal Challengers Bangalore         field   \n",
              "1       Rising Pune Supergiant       Rising Pune Supergiant         field   \n",
              "2        Kolkata Knight Riders        Kolkata Knight Riders         field   \n",
              "3              Kings XI Punjab              Kings XI Punjab         field   \n",
              "4             Delhi Daredevils  Royal Challengers Bangalore           bat   \n",
              "5          Sunrisers Hyderabad          Sunrisers Hyderabad         field   \n",
              "6               Mumbai Indians               Mumbai Indians         field   \n",
              "7              Kings XI Punjab  Royal Challengers Bangalore           bat   \n",
              "8       Rising Pune Supergiant       Rising Pune Supergiant         field   \n",
              "9               Mumbai Indians               Mumbai Indians         field   \n",
              "\n",
              "   result  dl_applied                       winner  win_by_runs  \\\n",
              "0  normal           0          Sunrisers Hyderabad           35   \n",
              "1  normal           0       Rising Pune Supergiant            0   \n",
              "2  normal           0        Kolkata Knight Riders            0   \n",
              "3  normal           0              Kings XI Punjab            0   \n",
              "4  normal           0  Royal Challengers Bangalore           15   \n",
              "5  normal           0          Sunrisers Hyderabad            0   \n",
              "6  normal           0               Mumbai Indians            0   \n",
              "7  normal           0              Kings XI Punjab            0   \n",
              "8  normal           0             Delhi Daredevils           97   \n",
              "9  normal           0               Mumbai Indians            0   \n",
              "\n",
              "   win_by_wickets player_of_match                                      venue  \\\n",
              "0               0    Yuvraj Singh  Rajiv Gandhi International Stadium, Uppal   \n",
              "1               7       SPD Smith    Maharashtra Cricket Association Stadium   \n",
              "2              10         CA Lynn     Saurashtra Cricket Association Stadium   \n",
              "3               6      GJ Maxwell                     Holkar Cricket Stadium   \n",
              "4               0       KM Jadhav                      M Chinnaswamy Stadium   \n",
              "5               9     Rashid Khan  Rajiv Gandhi International Stadium, Uppal   \n",
              "6               4          N Rana                           Wankhede Stadium   \n",
              "7               8        AR Patel                     Holkar Cricket Stadium   \n",
              "8               0       SV Samson    Maharashtra Cricket Association Stadium   \n",
              "9               4       JJ Bumrah                           Wankhede Stadium   \n",
              "\n",
              "          umpire1        umpire2  \n",
              "0     AY Dandekar       NJ Llong  \n",
              "1  A Nand Kishore         S Ravi  \n",
              "2     Nitin Menon      CK Nandan  \n",
              "3    AK Chaudhary  C Shamshuddin  \n",
              "4             NaN            NaN  \n",
              "5      A Deshmukh       NJ Llong  \n",
              "6     Nitin Menon      CK Nandan  \n",
              "7    AK Chaudhary  C Shamshuddin  \n",
              "8     AY Dandekar         S Ravi  \n",
              "9     Nitin Menon      CK Nandan  "
            ]
          },
          "execution_count": 20,
          "metadata": {},
          "output_type": "execute_result"
        }
      ],
      "source": [
        "ipl_matches_df.head(10)"
      ]
    },
    {
      "cell_type": "code",
      "execution_count": null,
      "metadata": {
        "id": "6qkn4MvtBDUJ"
      },
      "outputs": [],
      "source": [
        "import jovian"
      ]
    },
    {
      "cell_type": "code",
      "execution_count": null,
      "metadata": {
        "id": "6-h7sH-8BDUJ",
        "outputId": "f9002a37-dcf4-4a50-f98e-bcb8500ad3c7"
      },
      "outputs": [
        {
          "data": {
            "application/javascript": [
              "window.require && require([\"base/js/namespace\"],function(Jupyter){Jupyter.notebook.save_checkpoint()})"
            ],
            "text/plain": [
              "<IPython.core.display.Javascript object>"
            ]
          },
          "metadata": {},
          "output_type": "display_data"
        },
        {
          "name": "stdout",
          "output_type": "stream",
          "text": [
            "[jovian] Attempting to save notebook..\u001b[0m\n",
            "[jovian] Detected Kaggle notebook...\u001b[0m\n"
          ]
        },
        {
          "name": "stderr",
          "output_type": "stream",
          "text": [
            "\u001b[31m[jovian] Error: Please provide the project argument e.g. jovian.commit(project='my-project')\u001b[0m\n"
          ]
        }
      ],
      "source": [
        "jovian.commit()"
      ]
    },
    {
      "cell_type": "markdown",
      "metadata": {
        "id": "7ONrua8DBDUJ"
      },
      "source": [
        "## Exploratory Analysis and Visualization\n",
        "\n",
        "Now that our data set has been cleaned up, it's time to do the in-depth analysis and visualization."
      ]
    },
    {
      "cell_type": "markdown",
      "metadata": {
        "id": "gKZm5ep8BDUJ"
      },
      "source": [
        "Let's begin by importing`matplotlib.pyplot` and `seaborn`."
      ]
    },
    {
      "cell_type": "code",
      "execution_count": null,
      "metadata": {
        "id": "9wzMhS7jBDUK"
      },
      "outputs": [],
      "source": [
        "import seaborn as sns\n",
        "import matplotlib\n",
        "import matplotlib.pyplot as plt\n",
        "%matplotlib inline\n",
        "\n",
        "# sns.set_style('darkgrid')\n",
        "# sns.set_style('whitegrid')\n",
        "sns.color_palette(\"Paired\")\n",
        "matplotlib.rcParams['font.size'] = 14\n",
        "matplotlib.rcParams['figure.figsize'] = (12, 8)\n",
        "matplotlib.rcParams['figure.facecolor'] = '#00000000'"
      ]
    },
    {
      "cell_type": "markdown",
      "metadata": {
        "id": "0y1fPl-iBDUO"
      },
      "source": [
        "### The team with most number of wins per season.\n",
        "\n",
        "Each IPL season has a fair share of excitement and adulation. No team other than Chennai Super Kings(in 2010 and 2011) was able to win the IPL trophy in succession. That is a testimony to the unpredictability of IPL.\n",
        "\n",
        "Let's analyze the team with the most wins in each season."
      ]
    },
    {
      "cell_type": "code",
      "execution_count": null,
      "metadata": {
        "id": "tumLV-6YBDUO",
        "outputId": "b57eed28-a958-46be-f240-533195fb541d"
      },
      "outputs": [
        {
          "data": {
            "text/plain": [
              "season  winner                     \n",
              "2008    Rajasthan Royals               13\n",
              "        Kings XI Punjab                10\n",
              "        Chennai Super Kings             9\n",
              "        Delhi Daredevils                7\n",
              "        Mumbai Indians                  7\n",
              "                                       ..\n",
              "2019    Kings XI Punjab                 6\n",
              "        Kolkata Knight Riders           6\n",
              "        Sunrisers Hyderabad             6\n",
              "        Rajasthan Royals                5\n",
              "        Royal Challengers Bangalore     5\n",
              "Name: winner, Length: 100, dtype: int64"
            ]
          },
          "execution_count": 22,
          "metadata": {},
          "output_type": "execute_result"
        }
      ],
      "source": [
        "teams_per_season = ipl_matches_df.groupby('season')['winner'].value_counts()\n",
        "teams_per_season"
      ]
    },
    {
      "cell_type": "code",
      "execution_count": null,
      "metadata": {
        "id": "CMtxB-4vBDUO",
        "outputId": "6abbf893-f276-4c7c-d7d0-59f4c5188e0f"
      },
      "outputs": [
        {
          "name": "stdout",
          "output_type": "stream",
          "text": [
            "((2008, 'Rajasthan Royals'), 13)\n",
            "((2009, 'Delhi Daredevils'), 10)\n",
            "((2010, 'Mumbai Indians'), 11)\n",
            "((2011, 'Chennai Super Kings'), 11)\n",
            "((2012, 'Kolkata Knight Riders'), 12)\n",
            "((2013, 'Mumbai Indians'), 13)\n",
            "((2014, 'Kings XI Punjab'), 12)\n",
            "((2015, 'Chennai Super Kings'), 10)\n",
            "((2016, 'Sunrisers Hyderabad'), 11)\n",
            "((2017, 'Mumbai Indians'), 12)\n",
            "((2018, 'Chennai Super Kings'), 11)\n",
            "((2019, 'Mumbai Indians'), 11)\n"
          ]
        }
      ],
      "source": [
        "\"\"\"\n",
        "for i, v in win_per_season.iteritems():\n",
        "    print(i, v)\n",
        "\n",
        "for items in win_per_season.iteritems():\n",
        "    print(items)\n",
        "\"\"\"\n",
        "year = 2008\n",
        "win_per_season_df = pd.DataFrame(columns=['year', 'team', 'wins'])\n",
        "for items in teams_per_season.iteritems():\n",
        "    if items[0][0]==year:\n",
        "        print(items)\n",
        "        win_series = pd.DataFrame({\n",
        "            'year': [items[0][0]],\n",
        "            'team': [items[0][1]],\n",
        "            'wins': [items[1]]\n",
        "        })\n",
        "        win_per_season_df = win_per_season_df.append(win_series)\n",
        "        year += 1"
      ]
    },
    {
      "cell_type": "code",
      "execution_count": null,
      "metadata": {
        "id": "qasA-A-XBDUP",
        "outputId": "e96bb9a0-55d9-4fd4-f433-edffd0fd6ed0"
      },
      "outputs": [
        {
          "data": {
            "text/html": [
              "<div>\n",
              "<style scoped>\n",
              "    .dataframe tbody tr th:only-of-type {\n",
              "        vertical-align: middle;\n",
              "    }\n",
              "\n",
              "    .dataframe tbody tr th {\n",
              "        vertical-align: top;\n",
              "    }\n",
              "\n",
              "    .dataframe thead th {\n",
              "        text-align: right;\n",
              "    }\n",
              "</style>\n",
              "<table border=\"1\" class=\"dataframe\">\n",
              "  <thead>\n",
              "    <tr style=\"text-align: right;\">\n",
              "      <th></th>\n",
              "      <th>year</th>\n",
              "      <th>team</th>\n",
              "      <th>wins</th>\n",
              "    </tr>\n",
              "  </thead>\n",
              "  <tbody>\n",
              "    <tr>\n",
              "      <th>0</th>\n",
              "      <td>2008</td>\n",
              "      <td>Rajasthan Royals</td>\n",
              "      <td>13</td>\n",
              "    </tr>\n",
              "    <tr>\n",
              "      <th>0</th>\n",
              "      <td>2009</td>\n",
              "      <td>Delhi Daredevils</td>\n",
              "      <td>10</td>\n",
              "    </tr>\n",
              "    <tr>\n",
              "      <th>0</th>\n",
              "      <td>2010</td>\n",
              "      <td>Mumbai Indians</td>\n",
              "      <td>11</td>\n",
              "    </tr>\n",
              "    <tr>\n",
              "      <th>0</th>\n",
              "      <td>2011</td>\n",
              "      <td>Chennai Super Kings</td>\n",
              "      <td>11</td>\n",
              "    </tr>\n",
              "    <tr>\n",
              "      <th>0</th>\n",
              "      <td>2012</td>\n",
              "      <td>Kolkata Knight Riders</td>\n",
              "      <td>12</td>\n",
              "    </tr>\n",
              "    <tr>\n",
              "      <th>0</th>\n",
              "      <td>2013</td>\n",
              "      <td>Mumbai Indians</td>\n",
              "      <td>13</td>\n",
              "    </tr>\n",
              "    <tr>\n",
              "      <th>0</th>\n",
              "      <td>2014</td>\n",
              "      <td>Kings XI Punjab</td>\n",
              "      <td>12</td>\n",
              "    </tr>\n",
              "    <tr>\n",
              "      <th>0</th>\n",
              "      <td>2015</td>\n",
              "      <td>Chennai Super Kings</td>\n",
              "      <td>10</td>\n",
              "    </tr>\n",
              "    <tr>\n",
              "      <th>0</th>\n",
              "      <td>2016</td>\n",
              "      <td>Sunrisers Hyderabad</td>\n",
              "      <td>11</td>\n",
              "    </tr>\n",
              "    <tr>\n",
              "      <th>0</th>\n",
              "      <td>2017</td>\n",
              "      <td>Mumbai Indians</td>\n",
              "      <td>12</td>\n",
              "    </tr>\n",
              "    <tr>\n",
              "      <th>0</th>\n",
              "      <td>2018</td>\n",
              "      <td>Chennai Super Kings</td>\n",
              "      <td>11</td>\n",
              "    </tr>\n",
              "    <tr>\n",
              "      <th>0</th>\n",
              "      <td>2019</td>\n",
              "      <td>Mumbai Indians</td>\n",
              "      <td>11</td>\n",
              "    </tr>\n",
              "  </tbody>\n",
              "</table>\n",
              "</div>"
            ],
            "text/plain": [
              "   year                   team wins\n",
              "0  2008       Rajasthan Royals   13\n",
              "0  2009       Delhi Daredevils   10\n",
              "0  2010         Mumbai Indians   11\n",
              "0  2011    Chennai Super Kings   11\n",
              "0  2012  Kolkata Knight Riders   12\n",
              "0  2013         Mumbai Indians   13\n",
              "0  2014        Kings XI Punjab   12\n",
              "0  2015    Chennai Super Kings   10\n",
              "0  2016    Sunrisers Hyderabad   11\n",
              "0  2017         Mumbai Indians   12\n",
              "0  2018    Chennai Super Kings   11\n",
              "0  2019         Mumbai Indians   11"
            ]
          },
          "execution_count": 24,
          "metadata": {},
          "output_type": "execute_result"
        }
      ],
      "source": [
        "win_per_season_df"
      ]
    },
    {
      "cell_type": "markdown",
      "metadata": {
        "id": "Eo8lYSq4BDUP"
      },
      "source": [
        "The number of wins is a discrete value. Hence, we will plot a barchart(barplot in Seaborn)."
      ]
    },
    {
      "cell_type": "code",
      "execution_count": null,
      "metadata": {
        "id": "Az5xQYIsBDUP",
        "outputId": "d07df1de-6853-4077-85ff-bdb3828e31d7"
      },
      "outputs": [
        {
          "data": {
            "image/png": "[encoded data removed]",
            "text/plain": [
              "<Figure size 864x576 with 1 Axes>"
            ]
          },
          "metadata": {
            "needs_background": "light"
          },
          "output_type": "display_data"
        }
      ],
      "source": [
        "sns.barplot('wins', 'team', hue='year', data=win_per_season_df, palette='Paired');"
      ]
    },
    {
      "cell_type": "markdown",
      "metadata": {
        "id": "RUQYXjoYBDUP"
      },
      "source": [
        "From the barplot, we can easily make inferences regarding the year in which a particular team has scored the maximum wins(and also the number of wins).\n",
        "\n",
        "### Observations\n",
        "* **Mumbai Indians has secured the most wins in four seasons(2010, 2013, 2017, and 2019).**."
      ]
    },
    {
      "cell_type": "markdown",
      "metadata": {
        "id": "m1jCP79RBDUP"
      },
      "source": [
        "### The venue that hosted the maximum number of matches"
      ]
    },
    {
      "cell_type": "code",
      "execution_count": null,
      "metadata": {
        "id": "FykJRdA8BDUP"
      },
      "outputs": [],
      "source": [
        "venue_ser = ipl_matches_df['venue'].value_counts()"
      ]
    },
    {
      "cell_type": "code",
      "execution_count": null,
      "metadata": {
        "id": "k_Klr8dQBDUP"
      },
      "outputs": [],
      "source": [
        "venue_df = pd.DataFrame(columns=['venue', 'matches'])\n",
        "for items in venue_ser.iteritems():\n",
        "    temp_df = pd.DataFrame({\n",
        "        'venue':[items[0]],\n",
        "        'matches':[items[1]]\n",
        "    })\n",
        "    venue_df = venue_df.append(temp_df, ignore_index=True)"
      ]
    },
    {
      "cell_type": "code",
      "execution_count": null,
      "metadata": {
        "id": "lqHJ8c4ZBDUQ",
        "outputId": "fad8c8b7-1fc0-490a-dd1e-a8e2d5b4e1e4"
      },
      "outputs": [
        {
          "data": {
            "image/png": "[encoded data removed]",
            "text/plain": [
              "<Figure size 864x576 with 1 Axes>"
            ]
          },
          "metadata": {
            "needs_background": "light"
          },
          "output_type": "display_data"
        }
      ],
      "source": [
        "plt.title(\"IPL Venues\")\n",
        "sns.barplot(x='matches', y='venue', data=venue_df);"
      ]
    },
    {
      "cell_type": "code",
      "execution_count": null,
      "metadata": {
        "id": "83jcelC6BDUQ",
        "outputId": "a5d6eae4-a604-4dd4-fd47-f57c574e4e2f"
      },
      "outputs": [
        {
          "data": {
            "text/html": [
              "<div>\n",
              "<style scoped>\n",
              "    .dataframe tbody tr th:only-of-type {\n",
              "        vertical-align: middle;\n",
              "    }\n",
              "\n",
              "    .dataframe tbody tr th {\n",
              "        vertical-align: top;\n",
              "    }\n",
              "\n",
              "    .dataframe thead th {\n",
              "        text-align: right;\n",
              "    }\n",
              "</style>\n",
              "<table border=\"1\" class=\"dataframe\">\n",
              "  <thead>\n",
              "    <tr style=\"text-align: right;\">\n",
              "      <th></th>\n",
              "      <th>venue</th>\n",
              "      <th>matches</th>\n",
              "    </tr>\n",
              "  </thead>\n",
              "  <tbody>\n",
              "    <tr>\n",
              "      <th>0</th>\n",
              "      <td>Eden Gardens</td>\n",
              "      <td>77</td>\n",
              "    </tr>\n",
              "    <tr>\n",
              "      <th>1</th>\n",
              "      <td>Wankhede Stadium</td>\n",
              "      <td>73</td>\n",
              "    </tr>\n",
              "    <tr>\n",
              "      <th>2</th>\n",
              "      <td>M Chinnaswamy Stadium</td>\n",
              "      <td>73</td>\n",
              "    </tr>\n",
              "    <tr>\n",
              "      <th>3</th>\n",
              "      <td>Feroz Shah Kotla</td>\n",
              "      <td>67</td>\n",
              "    </tr>\n",
              "    <tr>\n",
              "      <th>4</th>\n",
              "      <td>Rajiv Gandhi International Stadium, Uppal</td>\n",
              "      <td>56</td>\n",
              "    </tr>\n",
              "    <tr>\n",
              "      <th>5</th>\n",
              "      <td>MA Chidambaram Stadium, Chepauk</td>\n",
              "      <td>49</td>\n",
              "    </tr>\n",
              "    <tr>\n",
              "      <th>6</th>\n",
              "      <td>Sawai Mansingh Stadium</td>\n",
              "      <td>47</td>\n",
              "    </tr>\n",
              "    <tr>\n",
              "      <th>7</th>\n",
              "      <td>Punjab Cricket Association Stadium, Mohali</td>\n",
              "      <td>35</td>\n",
              "    </tr>\n",
              "    <tr>\n",
              "      <th>8</th>\n",
              "      <td>Maharashtra Cricket Association Stadium</td>\n",
              "      <td>21</td>\n",
              "    </tr>\n",
              "    <tr>\n",
              "      <th>9</th>\n",
              "      <td>Dr DY Patil Sports Academy</td>\n",
              "      <td>17</td>\n",
              "    </tr>\n",
              "    <tr>\n",
              "      <th>10</th>\n",
              "      <td>Subrata Roy Sahara Stadium</td>\n",
              "      <td>17</td>\n",
              "    </tr>\n",
              "    <tr>\n",
              "      <th>11</th>\n",
              "      <td>Kingsmead</td>\n",
              "      <td>15</td>\n",
              "    </tr>\n",
              "    <tr>\n",
              "      <th>12</th>\n",
              "      <td>Punjab Cricket Association IS Bindra Stadium, ...</td>\n",
              "      <td>14</td>\n",
              "    </tr>\n",
              "    <tr>\n",
              "      <th>13</th>\n",
              "      <td>Sardar Patel Stadium, Motera</td>\n",
              "      <td>12</td>\n",
              "    </tr>\n",
              "    <tr>\n",
              "      <th>14</th>\n",
              "      <td>SuperSport Park</td>\n",
              "      <td>12</td>\n",
              "    </tr>\n",
              "    <tr>\n",
              "      <th>15</th>\n",
              "      <td>Dr. Y.S. Rajasekhara Reddy ACA-VDCA Cricket St...</td>\n",
              "      <td>11</td>\n",
              "    </tr>\n",
              "    <tr>\n",
              "      <th>16</th>\n",
              "      <td>Brabourne Stadium</td>\n",
              "      <td>11</td>\n",
              "    </tr>\n",
              "    <tr>\n",
              "      <th>17</th>\n",
              "      <td>Saurashtra Cricket Association Stadium</td>\n",
              "      <td>10</td>\n",
              "    </tr>\n",
              "    <tr>\n",
              "      <th>18</th>\n",
              "      <td>Himachal Pradesh Cricket Association Stadium</td>\n",
              "      <td>9</td>\n",
              "    </tr>\n",
              "    <tr>\n",
              "      <th>19</th>\n",
              "      <td>Holkar Cricket Stadium</td>\n",
              "      <td>9</td>\n",
              "    </tr>\n",
              "    <tr>\n",
              "      <th>20</th>\n",
              "      <td>New Wanderers Stadium</td>\n",
              "      <td>8</td>\n",
              "    </tr>\n",
              "    <tr>\n",
              "      <th>21</th>\n",
              "      <td>Rajiv Gandhi Intl. Cricket Stadium</td>\n",
              "      <td>8</td>\n",
              "    </tr>\n",
              "    <tr>\n",
              "      <th>22</th>\n",
              "      <td>M. A. Chidambaram Stadium</td>\n",
              "      <td>8</td>\n",
              "    </tr>\n",
              "    <tr>\n",
              "      <th>23</th>\n",
              "      <td>IS Bindra Stadium</td>\n",
              "      <td>7</td>\n",
              "    </tr>\n",
              "    <tr>\n",
              "      <th>24</th>\n",
              "      <td>Dubai International Cricket Stadium</td>\n",
              "      <td>7</td>\n",
              "    </tr>\n",
              "    <tr>\n",
              "      <th>25</th>\n",
              "      <td>Feroz Shah Kotla Ground</td>\n",
              "      <td>7</td>\n",
              "    </tr>\n",
              "    <tr>\n",
              "      <th>26</th>\n",
              "      <td>Sheikh Zayed Stadium</td>\n",
              "      <td>7</td>\n",
              "    </tr>\n",
              "    <tr>\n",
              "      <th>27</th>\n",
              "      <td>Barabati Stadium</td>\n",
              "      <td>7</td>\n",
              "    </tr>\n",
              "    <tr>\n",
              "      <th>28</th>\n",
              "      <td>JSCA International Stadium Complex</td>\n",
              "      <td>7</td>\n",
              "    </tr>\n",
              "    <tr>\n",
              "      <th>29</th>\n",
              "      <td>St George's Park</td>\n",
              "      <td>7</td>\n",
              "    </tr>\n",
              "    <tr>\n",
              "      <th>30</th>\n",
              "      <td>M. Chinnaswamy Stadium</td>\n",
              "      <td>7</td>\n",
              "    </tr>\n",
              "    <tr>\n",
              "      <th>31</th>\n",
              "      <td>Newlands</td>\n",
              "      <td>7</td>\n",
              "    </tr>\n",
              "    <tr>\n",
              "      <th>32</th>\n",
              "      <td>Sharjah Cricket Stadium</td>\n",
              "      <td>6</td>\n",
              "    </tr>\n",
              "    <tr>\n",
              "      <th>33</th>\n",
              "      <td>Shaheed Veer Narayan Singh International Stadium</td>\n",
              "      <td>6</td>\n",
              "    </tr>\n",
              "    <tr>\n",
              "      <th>34</th>\n",
              "      <td>Nehru Stadium</td>\n",
              "      <td>5</td>\n",
              "    </tr>\n",
              "    <tr>\n",
              "      <th>35</th>\n",
              "      <td>Green Park</td>\n",
              "      <td>4</td>\n",
              "    </tr>\n",
              "    <tr>\n",
              "      <th>36</th>\n",
              "      <td>De Beers Diamond Oval</td>\n",
              "      <td>3</td>\n",
              "    </tr>\n",
              "    <tr>\n",
              "      <th>37</th>\n",
              "      <td>Buffalo Park</td>\n",
              "      <td>3</td>\n",
              "    </tr>\n",
              "    <tr>\n",
              "      <th>38</th>\n",
              "      <td>Vidarbha Cricket Association Stadium, Jamtha</td>\n",
              "      <td>3</td>\n",
              "    </tr>\n",
              "    <tr>\n",
              "      <th>39</th>\n",
              "      <td>ACA-VDCA Stadium</td>\n",
              "      <td>2</td>\n",
              "    </tr>\n",
              "    <tr>\n",
              "      <th>40</th>\n",
              "      <td>OUTsurance Oval</td>\n",
              "      <td>2</td>\n",
              "    </tr>\n",
              "  </tbody>\n",
              "</table>\n",
              "</div>"
            ],
            "text/plain": [
              "                                                venue matches\n",
              "0                                        Eden Gardens      77\n",
              "1                                    Wankhede Stadium      73\n",
              "2                               M Chinnaswamy Stadium      73\n",
              "3                                    Feroz Shah Kotla      67\n",
              "4           Rajiv Gandhi International Stadium, Uppal      56\n",
              "5                     MA Chidambaram Stadium, Chepauk      49\n",
              "6                              Sawai Mansingh Stadium      47\n",
              "7          Punjab Cricket Association Stadium, Mohali      35\n",
              "8             Maharashtra Cricket Association Stadium      21\n",
              "9                          Dr DY Patil Sports Academy      17\n",
              "10                         Subrata Roy Sahara Stadium      17\n",
              "11                                          Kingsmead      15\n",
              "12  Punjab Cricket Association IS Bindra Stadium, ...      14\n",
              "13                       Sardar Patel Stadium, Motera      12\n",
              "14                                    SuperSport Park      12\n",
              "15  Dr. Y.S. Rajasekhara Reddy ACA-VDCA Cricket St...      11\n",
              "16                                  Brabourne Stadium      11\n",
              "17             Saurashtra Cricket Association Stadium      10\n",
              "18       Himachal Pradesh Cricket Association Stadium       9\n",
              "19                             Holkar Cricket Stadium       9\n",
              "20                              New Wanderers Stadium       8\n",
              "21                 Rajiv Gandhi Intl. Cricket Stadium       8\n",
              "22                          M. A. Chidambaram Stadium       8\n",
              "23                                  IS Bindra Stadium       7\n",
              "24                Dubai International Cricket Stadium       7\n",
              "25                            Feroz Shah Kotla Ground       7\n",
              "26                               Sheikh Zayed Stadium       7\n",
              "27                                   Barabati Stadium       7\n",
              "28                 JSCA International Stadium Complex       7\n",
              "29                                   St George's Park       7\n",
              "30                             M. Chinnaswamy Stadium       7\n",
              "31                                           Newlands       7\n",
              "32                            Sharjah Cricket Stadium       6\n",
              "33   Shaheed Veer Narayan Singh International Stadium       6\n",
              "34                                      Nehru Stadium       5\n",
              "35                                         Green Park       4\n",
              "36                              De Beers Diamond Oval       3\n",
              "37                                       Buffalo Park       3\n",
              "38       Vidarbha Cricket Association Stadium, Jamtha       3\n",
              "39                                   ACA-VDCA Stadium       2\n",
              "40                                    OUTsurance Oval       2"
            ]
          },
          "execution_count": 29,
          "metadata": {},
          "output_type": "execute_result"
        }
      ],
      "source": [
        "venue_df"
      ]
    },
    {
      "cell_type": "markdown",
      "metadata": {
        "id": "srpF2enBBDUR"
      },
      "source": [
        "### Observations\n",
        "* **Eden Gardens has hosted the maximum number of IPL matches followed by Wankhede Stadium and M Chinnaswamy Stadium**.\n",
        "* **Till 2019, IPL matches were hosted by 40 venues**."
      ]
    },
    {
      "cell_type": "markdown",
      "metadata": {
        "id": "DX3-O9YQBDUR"
      },
      "source": [
        "### The most successful IPL team\n",
        "\n",
        "In a game of sports, every team competes for victory. Hence, the team that has registered the most number of victories is the most successful."
      ]
    },
    {
      "cell_type": "code",
      "execution_count": null,
      "metadata": {
        "id": "dXjUfQ4nBDUR"
      },
      "outputs": [],
      "source": [
        "team_wins_ser = ipl_matches_df['winner'].value_counts()\n",
        "\n",
        "team_wins_df = pd.DataFrame(columns=[\"team\", \"wins\"])\n",
        "for items in team_wins_ser.iteritems():\n",
        "    temp_df1 = pd.DataFrame({\n",
        "        'team':[items[0]],\n",
        "        'wins':[items[1]]\n",
        "    })\n",
        "    team_wins_df = team_wins_df.append(temp_df1, ignore_index=True)"
      ]
    },
    {
      "cell_type": "code",
      "execution_count": null,
      "metadata": {
        "id": "_3HNpfmeBDUS",
        "outputId": "3d6a8281-61ff-4b30-c433-b81a7fbb1365"
      },
      "outputs": [
        {
          "data": {
            "text/html": [
              "<div>\n",
              "<style scoped>\n",
              "    .dataframe tbody tr th:only-of-type {\n",
              "        vertical-align: middle;\n",
              "    }\n",
              "\n",
              "    .dataframe tbody tr th {\n",
              "        vertical-align: top;\n",
              "    }\n",
              "\n",
              "    .dataframe thead th {\n",
              "        text-align: right;\n",
              "    }\n",
              "</style>\n",
              "<table border=\"1\" class=\"dataframe\">\n",
              "  <thead>\n",
              "    <tr style=\"text-align: right;\">\n",
              "      <th></th>\n",
              "      <th>team</th>\n",
              "      <th>wins</th>\n",
              "    </tr>\n",
              "  </thead>\n",
              "  <tbody>\n",
              "    <tr>\n",
              "      <th>0</th>\n",
              "      <td>Mumbai Indians</td>\n",
              "      <td>109</td>\n",
              "    </tr>\n",
              "    <tr>\n",
              "      <th>1</th>\n",
              "      <td>Chennai Super Kings</td>\n",
              "      <td>100</td>\n",
              "    </tr>\n",
              "    <tr>\n",
              "      <th>2</th>\n",
              "      <td>Kolkata Knight Riders</td>\n",
              "      <td>92</td>\n",
              "    </tr>\n",
              "    <tr>\n",
              "      <th>3</th>\n",
              "      <td>Royal Challengers Bangalore</td>\n",
              "      <td>84</td>\n",
              "    </tr>\n",
              "    <tr>\n",
              "      <th>4</th>\n",
              "      <td>Kings XI Punjab</td>\n",
              "      <td>82</td>\n",
              "    </tr>\n",
              "    <tr>\n",
              "      <th>5</th>\n",
              "      <td>Rajasthan Royals</td>\n",
              "      <td>75</td>\n",
              "    </tr>\n",
              "    <tr>\n",
              "      <th>6</th>\n",
              "      <td>Delhi Daredevils</td>\n",
              "      <td>67</td>\n",
              "    </tr>\n",
              "    <tr>\n",
              "      <th>7</th>\n",
              "      <td>Sunrisers Hyderabad</td>\n",
              "      <td>58</td>\n",
              "    </tr>\n",
              "    <tr>\n",
              "      <th>8</th>\n",
              "      <td>Deccan Chargers</td>\n",
              "      <td>29</td>\n",
              "    </tr>\n",
              "    <tr>\n",
              "      <th>9</th>\n",
              "      <td>Gujarat Lions</td>\n",
              "      <td>13</td>\n",
              "    </tr>\n",
              "    <tr>\n",
              "      <th>10</th>\n",
              "      <td>Pune Warriors</td>\n",
              "      <td>12</td>\n",
              "    </tr>\n",
              "    <tr>\n",
              "      <th>11</th>\n",
              "      <td>Delhi Capitals</td>\n",
              "      <td>10</td>\n",
              "    </tr>\n",
              "    <tr>\n",
              "      <th>12</th>\n",
              "      <td>Rising Pune Supergiant</td>\n",
              "      <td>10</td>\n",
              "    </tr>\n",
              "    <tr>\n",
              "      <th>13</th>\n",
              "      <td>Kochi Tuskers Kerala</td>\n",
              "      <td>6</td>\n",
              "    </tr>\n",
              "    <tr>\n",
              "      <th>14</th>\n",
              "      <td>Rising Pune Supergiants</td>\n",
              "      <td>5</td>\n",
              "    </tr>\n",
              "  </tbody>\n",
              "</table>\n",
              "</div>"
            ],
            "text/plain": [
              "                           team wins\n",
              "0                Mumbai Indians  109\n",
              "1           Chennai Super Kings  100\n",
              "2         Kolkata Knight Riders   92\n",
              "3   Royal Challengers Bangalore   84\n",
              "4               Kings XI Punjab   82\n",
              "5              Rajasthan Royals   75\n",
              "6              Delhi Daredevils   67\n",
              "7           Sunrisers Hyderabad   58\n",
              "8               Deccan Chargers   29\n",
              "9                 Gujarat Lions   13\n",
              "10                Pune Warriors   12\n",
              "11               Delhi Capitals   10\n",
              "12       Rising Pune Supergiant   10\n",
              "13         Kochi Tuskers Kerala    6\n",
              "14      Rising Pune Supergiants    5"
            ]
          },
          "execution_count": 36,
          "metadata": {},
          "output_type": "execute_result"
        }
      ],
      "source": [
        "team_wins_df"
      ]
    },
    {
      "cell_type": "code",
      "execution_count": null,
      "metadata": {
        "id": "6RLPGq4dBDUS",
        "outputId": "a5dd7e35-e223-4704-9da5-55e06985b071"
      },
      "outputs": [
        {
          "data": {
            "image/png": "[encoded data removed]",
            "text/plain": [
              "<Figure size 864x576 with 1 Axes>"
            ]
          },
          "metadata": {
            "needs_background": "light"
          },
          "output_type": "display_data"
        }
      ],
      "source": [
        "plt.title(\"Total Victories of IPL Teams\")\n",
        "sns.barplot(x='wins', y='team', data=team_wins_df, palette='Paired');"
      ]
    },
    {
      "cell_type": "markdown",
      "metadata": {
        "id": "G0zcmZKsBDUS"
      },
      "source": [
        "### Observations:\n",
        "* **Mumbai Indians is the most successful team(as they have won the maximum number of IPL matches -109) followed by Chennai Super Kings and Kolkata Knight Riders.**."
      ]
    },
    {
      "cell_type": "markdown",
      "metadata": {
        "id": "ZTlWvTubBDUS"
      },
      "source": [
        "### Most Valuable Player\n",
        "\n",
        "Winning matters the most in a competitive league match. If a player makes the most significant contribution to his team's victory, then he's chosen as the player_of_match. The player who has won the player_of_match title on most occasions is the most valuable player."
      ]
    },
    {
      "cell_type": "code",
      "execution_count": null,
      "metadata": {
        "id": "SW90VRYtBDUS"
      },
      "outputs": [],
      "source": [
        "mvp_ser = ipl_matches_df['player_of_match'].value_counts()\n",
        "\n",
        "mvp_ten_df = pd.DataFrame(columns=[\"player\", \"wins\"])\n",
        "count = 0\n",
        "for items in mvp_ser.iteritems():\n",
        "    if count>9:\n",
        "        break\n",
        "    else:\n",
        "        temp_df2 = pd.DataFrame({\n",
        "            'player':[items[0]],\n",
        "            'wins':[items[1]]\n",
        "        })\n",
        "        mvp_ten_df = mvp_ten_df.append(temp_df2, ignore_index=True)\n",
        "        count += 1"
      ]
    },
    {
      "cell_type": "code",
      "execution_count": null,
      "metadata": {
        "id": "j1C81NEpBDUT",
        "outputId": "89209e69-1263-4a41-9d20-81f404cd0611"
      },
      "outputs": [
        {
          "data": {
            "text/html": [
              "<div>\n",
              "<style scoped>\n",
              "    .dataframe tbody tr th:only-of-type {\n",
              "        vertical-align: middle;\n",
              "    }\n",
              "\n",
              "    .dataframe tbody tr th {\n",
              "        vertical-align: top;\n",
              "    }\n",
              "\n",
              "    .dataframe thead th {\n",
              "        text-align: right;\n",
              "    }\n",
              "</style>\n",
              "<table border=\"1\" class=\"dataframe\">\n",
              "  <thead>\n",
              "    <tr style=\"text-align: right;\">\n",
              "      <th></th>\n",
              "      <th>player</th>\n",
              "      <th>wins</th>\n",
              "    </tr>\n",
              "  </thead>\n",
              "  <tbody>\n",
              "    <tr>\n",
              "      <th>0</th>\n",
              "      <td>CH Gayle</td>\n",
              "      <td>21</td>\n",
              "    </tr>\n",
              "    <tr>\n",
              "      <th>1</th>\n",
              "      <td>AB de Villiers</td>\n",
              "      <td>20</td>\n",
              "    </tr>\n",
              "    <tr>\n",
              "      <th>2</th>\n",
              "      <td>RG Sharma</td>\n",
              "      <td>17</td>\n",
              "    </tr>\n",
              "    <tr>\n",
              "      <th>3</th>\n",
              "      <td>MS Dhoni</td>\n",
              "      <td>17</td>\n",
              "    </tr>\n",
              "    <tr>\n",
              "      <th>4</th>\n",
              "      <td>DA Warner</td>\n",
              "      <td>17</td>\n",
              "    </tr>\n",
              "    <tr>\n",
              "      <th>5</th>\n",
              "      <td>YK Pathan</td>\n",
              "      <td>16</td>\n",
              "    </tr>\n",
              "    <tr>\n",
              "      <th>6</th>\n",
              "      <td>SR Watson</td>\n",
              "      <td>15</td>\n",
              "    </tr>\n",
              "    <tr>\n",
              "      <th>7</th>\n",
              "      <td>SK Raina</td>\n",
              "      <td>14</td>\n",
              "    </tr>\n",
              "    <tr>\n",
              "      <th>8</th>\n",
              "      <td>G Gambhir</td>\n",
              "      <td>13</td>\n",
              "    </tr>\n",
              "    <tr>\n",
              "      <th>9</th>\n",
              "      <td>V Kohli</td>\n",
              "      <td>12</td>\n",
              "    </tr>\n",
              "  </tbody>\n",
              "</table>\n",
              "</div>"
            ],
            "text/plain": [
              "           player wins\n",
              "0        CH Gayle   21\n",
              "1  AB de Villiers   20\n",
              "2       RG Sharma   17\n",
              "3        MS Dhoni   17\n",
              "4       DA Warner   17\n",
              "5       YK Pathan   16\n",
              "6       SR Watson   15\n",
              "7        SK Raina   14\n",
              "8       G Gambhir   13\n",
              "9         V Kohli   12"
            ]
          },
          "execution_count": 39,
          "metadata": {},
          "output_type": "execute_result"
        }
      ],
      "source": [
        "mvp_ten_df"
      ]
    },
    {
      "cell_type": "code",
      "execution_count": null,
      "metadata": {
        "id": "MGlnB2nCBDUT",
        "outputId": "16eec50a-621b-48e7-d206-23962e9bd43d"
      },
      "outputs": [
        {
          "data": {
            "image/png": "[encoded data removed]",
            "text/plain": [
              "<Figure size 864x576 with 1 Axes>"
            ]
          },
          "metadata": {
            "needs_background": "light"
          },
          "output_type": "display_data"
        }
      ],
      "source": [
        "plt.title(\"Top Ten IPL Players\")\n",
        "sns.barplot(x='wins', y='player', data=mvp_ten_df, palette='Paired');"
      ]
    },
    {
      "cell_type": "markdown",
      "metadata": {
        "id": "KpeehcdjBDUT"
      },
      "source": [
        "### Observations:\n",
        "* **Cris Gayle is the player who won the most player of the match awards and hence is the most valuable player.**\n",
        "* **Six Indian players have figured in the top ten IPL players list.**"
      ]
    },
    {
      "cell_type": "markdown",
      "metadata": {
        "id": "S3RTKtsnBDUT"
      },
      "source": [
        "### Team that won the most number of toss"
      ]
    },
    {
      "cell_type": "code",
      "execution_count": null,
      "metadata": {
        "id": "yPb9dkuyBDUU"
      },
      "outputs": [],
      "source": [
        "toss_ser = ipl_matches_df['toss_winner'].value_counts()\n",
        "\n",
        "toss_df = pd.DataFrame(columns=[\"team\", \"wins\"])\n",
        "\n",
        "for items in toss_ser.iteritems():\n",
        "    temp_df3 = pd.DataFrame({\n",
        "        'team':[items[0]],\n",
        "        'wins':[items[1]]\n",
        "    })\n",
        "    toss_df = toss_df.append(temp_df3, ignore_index=True)"
      ]
    },
    {
      "cell_type": "code",
      "execution_count": null,
      "metadata": {
        "id": "gOsXOTklBDUU",
        "outputId": "f5a62bf9-3a4a-4cc8-98d6-4be1310e28fb"
      },
      "outputs": [
        {
          "data": {
            "text/html": [
              "<div>\n",
              "<style scoped>\n",
              "    .dataframe tbody tr th:only-of-type {\n",
              "        vertical-align: middle;\n",
              "    }\n",
              "\n",
              "    .dataframe tbody tr th {\n",
              "        vertical-align: top;\n",
              "    }\n",
              "\n",
              "    .dataframe thead th {\n",
              "        text-align: right;\n",
              "    }\n",
              "</style>\n",
              "<table border=\"1\" class=\"dataframe\">\n",
              "  <thead>\n",
              "    <tr style=\"text-align: right;\">\n",
              "      <th></th>\n",
              "      <th>team</th>\n",
              "      <th>wins</th>\n",
              "    </tr>\n",
              "  </thead>\n",
              "  <tbody>\n",
              "    <tr>\n",
              "      <th>0</th>\n",
              "      <td>Mumbai Indians</td>\n",
              "      <td>98</td>\n",
              "    </tr>\n",
              "    <tr>\n",
              "      <th>1</th>\n",
              "      <td>Kolkata Knight Riders</td>\n",
              "      <td>92</td>\n",
              "    </tr>\n",
              "    <tr>\n",
              "      <th>2</th>\n",
              "      <td>Chennai Super Kings</td>\n",
              "      <td>89</td>\n",
              "    </tr>\n",
              "    <tr>\n",
              "      <th>3</th>\n",
              "      <td>Royal Challengers Bangalore</td>\n",
              "      <td>81</td>\n",
              "    </tr>\n",
              "    <tr>\n",
              "      <th>4</th>\n",
              "      <td>Kings XI Punjab</td>\n",
              "      <td>81</td>\n",
              "    </tr>\n",
              "    <tr>\n",
              "      <th>5</th>\n",
              "      <td>Delhi Daredevils</td>\n",
              "      <td>80</td>\n",
              "    </tr>\n",
              "    <tr>\n",
              "      <th>6</th>\n",
              "      <td>Rajasthan Royals</td>\n",
              "      <td>80</td>\n",
              "    </tr>\n",
              "    <tr>\n",
              "      <th>7</th>\n",
              "      <td>Sunrisers Hyderabad</td>\n",
              "      <td>46</td>\n",
              "    </tr>\n",
              "    <tr>\n",
              "      <th>8</th>\n",
              "      <td>Deccan Chargers</td>\n",
              "      <td>43</td>\n",
              "    </tr>\n",
              "    <tr>\n",
              "      <th>9</th>\n",
              "      <td>Pune Warriors</td>\n",
              "      <td>20</td>\n",
              "    </tr>\n",
              "    <tr>\n",
              "      <th>10</th>\n",
              "      <td>Gujarat Lions</td>\n",
              "      <td>15</td>\n",
              "    </tr>\n",
              "    <tr>\n",
              "      <th>11</th>\n",
              "      <td>Delhi Capitals</td>\n",
              "      <td>10</td>\n",
              "    </tr>\n",
              "    <tr>\n",
              "      <th>12</th>\n",
              "      <td>Kochi Tuskers Kerala</td>\n",
              "      <td>8</td>\n",
              "    </tr>\n",
              "    <tr>\n",
              "      <th>13</th>\n",
              "      <td>Rising Pune Supergiants</td>\n",
              "      <td>7</td>\n",
              "    </tr>\n",
              "    <tr>\n",
              "      <th>14</th>\n",
              "      <td>Rising Pune Supergiant</td>\n",
              "      <td>6</td>\n",
              "    </tr>\n",
              "  </tbody>\n",
              "</table>\n",
              "</div>"
            ],
            "text/plain": [
              "                           team wins\n",
              "0                Mumbai Indians   98\n",
              "1         Kolkata Knight Riders   92\n",
              "2           Chennai Super Kings   89\n",
              "3   Royal Challengers Bangalore   81\n",
              "4               Kings XI Punjab   81\n",
              "5              Delhi Daredevils   80\n",
              "6              Rajasthan Royals   80\n",
              "7           Sunrisers Hyderabad   46\n",
              "8               Deccan Chargers   43\n",
              "9                 Pune Warriors   20\n",
              "10                Gujarat Lions   15\n",
              "11               Delhi Capitals   10\n",
              "12         Kochi Tuskers Kerala    8\n",
              "13      Rising Pune Supergiants    7\n",
              "14       Rising Pune Supergiant    6"
            ]
          },
          "execution_count": 42,
          "metadata": {},
          "output_type": "execute_result"
        }
      ],
      "source": [
        "toss_df"
      ]
    },
    {
      "cell_type": "code",
      "execution_count": null,
      "metadata": {
        "id": "y1ST76U3BDUU",
        "outputId": "a8441fa3-3511-4724-b28a-4e24e69d7165"
      },
      "outputs": [
        {
          "data": {
            "image/png": "[encoded data removed]",
            "text/plain": [
              "<Figure size 864x576 with 1 Axes>"
            ]
          },
          "metadata": {
            "needs_background": "light"
          },
          "output_type": "display_data"
        }
      ],
      "source": [
        "plt.title(\"How IPL Teams fared in toss?\")\n",
        "sns.barplot(x='wins', y='team', data=toss_df, palette='Paired');"
      ]
    },
    {
      "cell_type": "markdown",
      "metadata": {
        "id": "cxuqnyUUBDUU"
      },
      "source": [
        "### Observations:\n",
        "* **Mumbai Indians has won the most toss(till 2019) in IPL history.**\n",
        "* **All the top teams in IPL are successful in winning the toss as well.**"
      ]
    },
    {
      "cell_type": "markdown",
      "metadata": {
        "id": "HSBYHXkPBDUU"
      },
      "source": [
        "Let us save and upload our work to Jovian before continuing"
      ]
    },
    {
      "cell_type": "code",
      "execution_count": null,
      "metadata": {
        "id": "Kj3igZc_BDUV"
      },
      "outputs": [],
      "source": [
        "import jovian"
      ]
    },
    {
      "cell_type": "code",
      "execution_count": null,
      "metadata": {
        "id": "HzkUbc2-BDUV",
        "outputId": "5697d6ad-e7d6-4136-e70c-5f72d90f789c"
      },
      "outputs": [
        {
          "data": {},
          "metadata": {},
          "output_type": "display_data"
        },
        {
          "data": {},
          "execution_count": 26,
          "metadata": {},
          "output_type": "execute_result"
        }
      ],
      "source": [
        "jovian.commit()"
      ]
    },
    {
      "cell_type": "code",
      "execution_count": null,
      "metadata": {
        "id": "58UTfNGmBDUV",
        "outputId": "362c5684-5812-4c01-a4ea-80e464d1323f"
      },
      "outputs": [
        {
          "data": {
            "text/html": [
              "<div>\n",
              "<style scoped>\n",
              "    .dataframe tbody tr th:only-of-type {\n",
              "        vertical-align: middle;\n",
              "    }\n",
              "\n",
              "    .dataframe tbody tr th {\n",
              "        vertical-align: top;\n",
              "    }\n",
              "\n",
              "    .dataframe thead th {\n",
              "        text-align: right;\n",
              "    }\n",
              "</style>\n",
              "<table border=\"1\" class=\"dataframe\">\n",
              "  <thead>\n",
              "    <tr style=\"text-align: right;\">\n",
              "      <th></th>\n",
              "      <th>player</th>\n",
              "      <th>wins</th>\n",
              "    </tr>\n",
              "  </thead>\n",
              "  <tbody>\n",
              "    <tr>\n",
              "      <th>0</th>\n",
              "      <td>CH Gayle</td>\n",
              "      <td>21</td>\n",
              "    </tr>\n",
              "    <tr>\n",
              "      <th>1</th>\n",
              "      <td>AB de Villiers</td>\n",
              "      <td>20</td>\n",
              "    </tr>\n",
              "    <tr>\n",
              "      <th>2</th>\n",
              "      <td>RG Sharma</td>\n",
              "      <td>17</td>\n",
              "    </tr>\n",
              "    <tr>\n",
              "      <th>3</th>\n",
              "      <td>MS Dhoni</td>\n",
              "      <td>17</td>\n",
              "    </tr>\n",
              "    <tr>\n",
              "      <th>4</th>\n",
              "      <td>DA Warner</td>\n",
              "      <td>17</td>\n",
              "    </tr>\n",
              "    <tr>\n",
              "      <th>5</th>\n",
              "      <td>YK Pathan</td>\n",
              "      <td>16</td>\n",
              "    </tr>\n",
              "    <tr>\n",
              "      <th>6</th>\n",
              "      <td>SR Watson</td>\n",
              "      <td>15</td>\n",
              "    </tr>\n",
              "    <tr>\n",
              "      <th>7</th>\n",
              "      <td>SK Raina</td>\n",
              "      <td>14</td>\n",
              "    </tr>\n",
              "    <tr>\n",
              "      <th>8</th>\n",
              "      <td>G Gambhir</td>\n",
              "      <td>13</td>\n",
              "    </tr>\n",
              "    <tr>\n",
              "      <th>9</th>\n",
              "      <td>V Kohli</td>\n",
              "      <td>12</td>\n",
              "    </tr>\n",
              "  </tbody>\n",
              "</table>\n",
              "</div>"
            ],
            "text/plain": [
              "           player wins\n",
              "0        CH Gayle   21\n",
              "1  AB de Villiers   20\n",
              "2       RG Sharma   17\n",
              "3        MS Dhoni   17\n",
              "4       DA Warner   17\n",
              "5       YK Pathan   16\n",
              "6       SR Watson   15\n",
              "7        SK Raina   14\n",
              "8       G Gambhir   13\n",
              "9         V Kohli   12"
            ]
          },
          "execution_count": 44,
          "metadata": {},
          "output_type": "execute_result"
        }
      ],
      "source": [
        "mvp_ten_df"
      ]
    },
    {
      "cell_type": "code",
      "execution_count": null,
      "metadata": {
        "id": "8AnHY_QYBDUW"
      },
      "outputs": [],
      "source": [
        "umpire1_ser = ipl_matches_df['umpire1'].value_counts()\n",
        "umpire2_ser = ipl_matches_df['umpire2'].value_counts()"
      ]
    },
    {
      "cell_type": "code",
      "execution_count": null,
      "metadata": {
        "id": "0yXQ0Y7LBDUW",
        "outputId": "58582ba2-8cd5-4aea-b4a9-d7ba1baeadbc"
      },
      "outputs": [
        {
          "data": {
            "text/html": [
              "<div>\n",
              "<style scoped>\n",
              "    .dataframe tbody tr th:only-of-type {\n",
              "        vertical-align: middle;\n",
              "    }\n",
              "\n",
              "    .dataframe tbody tr th {\n",
              "        vertical-align: top;\n",
              "    }\n",
              "\n",
              "    .dataframe thead th {\n",
              "        text-align: right;\n",
              "    }\n",
              "</style>\n",
              "<table border=\"1\" class=\"dataframe\">\n",
              "  <thead>\n",
              "    <tr style=\"text-align: right;\">\n",
              "      <th></th>\n",
              "      <th>umpire1</th>\n",
              "      <th>umpire2</th>\n",
              "    </tr>\n",
              "  </thead>\n",
              "  <tbody>\n",
              "    <tr>\n",
              "      <th>HDPK Dharmasena</th>\n",
              "      <td>73.0</td>\n",
              "      <td>14.0</td>\n",
              "    </tr>\n",
              "    <tr>\n",
              "      <th>Asad Rauf</th>\n",
              "      <td>51.0</td>\n",
              "      <td>NaN</td>\n",
              "    </tr>\n",
              "    <tr>\n",
              "      <th>S Ravi</th>\n",
              "      <td>49.0</td>\n",
              "      <td>57.0</td>\n",
              "    </tr>\n",
              "    <tr>\n",
              "      <th>AK Chaudhary</th>\n",
              "      <td>43.0</td>\n",
              "      <td>15.0</td>\n",
              "    </tr>\n",
              "    <tr>\n",
              "      <th>Aleem Dar</th>\n",
              "      <td>38.0</td>\n",
              "      <td>NaN</td>\n",
              "    </tr>\n",
              "    <tr>\n",
              "      <th>...</th>\n",
              "      <td>...</td>\n",
              "      <td>...</td>\n",
              "    </tr>\n",
              "    <tr>\n",
              "      <th>K Srinivasan</th>\n",
              "      <td>NaN</td>\n",
              "      <td>3.0</td>\n",
              "    </tr>\n",
              "    <tr>\n",
              "      <th>KN Anantapadmanabhan</th>\n",
              "      <td>NaN</td>\n",
              "      <td>3.0</td>\n",
              "    </tr>\n",
              "    <tr>\n",
              "      <th>SD Ranade</th>\n",
              "      <td>NaN</td>\n",
              "      <td>2.0</td>\n",
              "    </tr>\n",
              "    <tr>\n",
              "      <th>Subroto Das</th>\n",
              "      <td>NaN</td>\n",
              "      <td>1.0</td>\n",
              "    </tr>\n",
              "    <tr>\n",
              "      <th>Nand Kishore</th>\n",
              "      <td>NaN</td>\n",
              "      <td>1.0</td>\n",
              "    </tr>\n",
              "  </tbody>\n",
              "</table>\n",
              "<p>75 rows × 2 columns</p>\n",
              "</div>"
            ],
            "text/plain": [
              "                      umpire1  umpire2\n",
              "HDPK Dharmasena          73.0     14.0\n",
              "Asad Rauf                51.0      NaN\n",
              "S Ravi                   49.0     57.0\n",
              "AK Chaudhary             43.0     15.0\n",
              "Aleem Dar                38.0      NaN\n",
              "...                       ...      ...\n",
              "K Srinivasan              NaN      3.0\n",
              "KN Anantapadmanabhan      NaN      3.0\n",
              "SD Ranade                 NaN      2.0\n",
              "Subroto Das               NaN      1.0\n",
              "Nand Kishore              NaN      1.0\n",
              "\n",
              "[75 rows x 2 columns]"
            ]
          },
          "execution_count": 46,
          "metadata": {},
          "output_type": "execute_result"
        }
      ],
      "source": [
        "umpires_df = pd.concat([umpire1_ser, umpire2_ser], axis=1)\n",
        "umpires_df"
      ]
    },
    {
      "cell_type": "code",
      "execution_count": null,
      "metadata": {
        "id": "zvrF4R2tBDUW"
      },
      "outputs": [],
      "source": [
        "umpire_ser = umpires_df.sum(axis=1)\n",
        "\n",
        "umpire_df = pd.DataFrame(columns=[\"umpire\", \"matches\"])\n",
        "\n",
        "for items in umpire_ser.iteritems():\n",
        "    temp_df4 = pd.DataFrame({\n",
        "        'umpire':[items[0]],\n",
        "        'matches':[items[1]]\n",
        "    })\n",
        "    umpire_df= umpire_df.append(temp_df4, ignore_index=True)"
      ]
    },
    {
      "cell_type": "code",
      "execution_count": null,
      "metadata": {
        "id": "NcMYgRXQBDUW",
        "outputId": "1a9a383a-6d89-472d-d086-5f64b119c140"
      },
      "outputs": [
        {
          "data": {
            "text/html": [
              "<div>\n",
              "<style scoped>\n",
              "    .dataframe tbody tr th:only-of-type {\n",
              "        vertical-align: middle;\n",
              "    }\n",
              "\n",
              "    .dataframe tbody tr th {\n",
              "        vertical-align: top;\n",
              "    }\n",
              "\n",
              "    .dataframe thead th {\n",
              "        text-align: right;\n",
              "    }\n",
              "</style>\n",
              "<table border=\"1\" class=\"dataframe\">\n",
              "  <thead>\n",
              "    <tr style=\"text-align: right;\">\n",
              "      <th></th>\n",
              "      <th>umpire</th>\n",
              "      <th>matches</th>\n",
              "    </tr>\n",
              "  </thead>\n",
              "  <tbody>\n",
              "    <tr>\n",
              "      <th>2</th>\n",
              "      <td>S Ravi</td>\n",
              "      <td>106.0</td>\n",
              "    </tr>\n",
              "    <tr>\n",
              "      <th>0</th>\n",
              "      <td>HDPK Dharmasena</td>\n",
              "      <td>87.0</td>\n",
              "    </tr>\n",
              "    <tr>\n",
              "      <th>11</th>\n",
              "      <td>C Shamshuddin</td>\n",
              "      <td>73.0</td>\n",
              "    </tr>\n",
              "    <tr>\n",
              "      <th>3</th>\n",
              "      <td>AK Chaudhary</td>\n",
              "      <td>58.0</td>\n",
              "    </tr>\n",
              "    <tr>\n",
              "      <th>57</th>\n",
              "      <td>SJA Taufel</td>\n",
              "      <td>55.0</td>\n",
              "    </tr>\n",
              "  </tbody>\n",
              "</table>\n",
              "</div>"
            ],
            "text/plain": [
              "             umpire  matches\n",
              "2            S Ravi    106.0\n",
              "0   HDPK Dharmasena     87.0\n",
              "11    C Shamshuddin     73.0\n",
              "3      AK Chaudhary     58.0\n",
              "57       SJA Taufel     55.0"
            ]
          },
          "execution_count": 48,
          "metadata": {},
          "output_type": "execute_result"
        }
      ],
      "source": [
        "umpire_df.sort_values('matches', ascending=False).head()"
      ]
    },
    {
      "cell_type": "code",
      "execution_count": null,
      "metadata": {
        "id": "CwkmwGz_BDUX",
        "outputId": "09529e5f-1658-4f9e-dceb-f8b7516a554c"
      },
      "outputs": [
        {
          "data": {
            "text/html": [
              "<div>\n",
              "<style scoped>\n",
              "    .dataframe tbody tr th:only-of-type {\n",
              "        vertical-align: middle;\n",
              "    }\n",
              "\n",
              "    .dataframe tbody tr th {\n",
              "        vertical-align: top;\n",
              "    }\n",
              "\n",
              "    .dataframe thead th {\n",
              "        text-align: right;\n",
              "    }\n",
              "</style>\n",
              "<table border=\"1\" class=\"dataframe\">\n",
              "  <thead>\n",
              "    <tr style=\"text-align: right;\">\n",
              "      <th></th>\n",
              "      <th>year</th>\n",
              "      <th>team</th>\n",
              "      <th>wins</th>\n",
              "    </tr>\n",
              "  </thead>\n",
              "  <tbody>\n",
              "    <tr>\n",
              "      <th>0</th>\n",
              "      <td>2008</td>\n",
              "      <td>Rajasthan Royals</td>\n",
              "      <td>13</td>\n",
              "    </tr>\n",
              "    <tr>\n",
              "      <th>0</th>\n",
              "      <td>2009</td>\n",
              "      <td>Delhi Daredevils</td>\n",
              "      <td>10</td>\n",
              "    </tr>\n",
              "    <tr>\n",
              "      <th>0</th>\n",
              "      <td>2010</td>\n",
              "      <td>Mumbai Indians</td>\n",
              "      <td>11</td>\n",
              "    </tr>\n",
              "    <tr>\n",
              "      <th>0</th>\n",
              "      <td>2011</td>\n",
              "      <td>Chennai Super Kings</td>\n",
              "      <td>11</td>\n",
              "    </tr>\n",
              "    <tr>\n",
              "      <th>0</th>\n",
              "      <td>2012</td>\n",
              "      <td>Kolkata Knight Riders</td>\n",
              "      <td>12</td>\n",
              "    </tr>\n",
              "    <tr>\n",
              "      <th>0</th>\n",
              "      <td>2013</td>\n",
              "      <td>Mumbai Indians</td>\n",
              "      <td>13</td>\n",
              "    </tr>\n",
              "    <tr>\n",
              "      <th>0</th>\n",
              "      <td>2014</td>\n",
              "      <td>Kings XI Punjab</td>\n",
              "      <td>12</td>\n",
              "    </tr>\n",
              "    <tr>\n",
              "      <th>0</th>\n",
              "      <td>2015</td>\n",
              "      <td>Chennai Super Kings</td>\n",
              "      <td>10</td>\n",
              "    </tr>\n",
              "    <tr>\n",
              "      <th>0</th>\n",
              "      <td>2016</td>\n",
              "      <td>Sunrisers Hyderabad</td>\n",
              "      <td>11</td>\n",
              "    </tr>\n",
              "    <tr>\n",
              "      <th>0</th>\n",
              "      <td>2017</td>\n",
              "      <td>Mumbai Indians</td>\n",
              "      <td>12</td>\n",
              "    </tr>\n",
              "    <tr>\n",
              "      <th>0</th>\n",
              "      <td>2018</td>\n",
              "      <td>Chennai Super Kings</td>\n",
              "      <td>11</td>\n",
              "    </tr>\n",
              "    <tr>\n",
              "      <th>0</th>\n",
              "      <td>2019</td>\n",
              "      <td>Mumbai Indians</td>\n",
              "      <td>11</td>\n",
              "    </tr>\n",
              "  </tbody>\n",
              "</table>\n",
              "</div>"
            ],
            "text/plain": [
              "   year                   team wins\n",
              "0  2008       Rajasthan Royals   13\n",
              "0  2009       Delhi Daredevils   10\n",
              "0  2010         Mumbai Indians   11\n",
              "0  2011    Chennai Super Kings   11\n",
              "0  2012  Kolkata Knight Riders   12\n",
              "0  2013         Mumbai Indians   13\n",
              "0  2014        Kings XI Punjab   12\n",
              "0  2015    Chennai Super Kings   10\n",
              "0  2016    Sunrisers Hyderabad   11\n",
              "0  2017         Mumbai Indians   12\n",
              "0  2018    Chennai Super Kings   11\n",
              "0  2019         Mumbai Indians   11"
            ]
          },
          "execution_count": 49,
          "metadata": {},
          "output_type": "execute_result"
        }
      ],
      "source": [
        "win_per_season_df"
      ]
    },
    {
      "cell_type": "markdown",
      "metadata": {
        "id": "fHjBlJtFBDUX"
      },
      "source": [
        "Mumbai Indians secured the most number of wins(109) in IPL, followed by Chennai Super Kings."
      ]
    },
    {
      "cell_type": "code",
      "execution_count": null,
      "metadata": {
        "id": "FpACKD5EBDUX",
        "outputId": "3512a1d3-ab60-43b4-dc07-e20310c2ba88"
      },
      "outputs": [
        {
          "data": {
            "text/html": [
              "<div>\n",
              "<style scoped>\n",
              "    .dataframe tbody tr th:only-of-type {\n",
              "        vertical-align: middle;\n",
              "    }\n",
              "\n",
              "    .dataframe tbody tr th {\n",
              "        vertical-align: top;\n",
              "    }\n",
              "\n",
              "    .dataframe thead th {\n",
              "        text-align: right;\n",
              "    }\n",
              "</style>\n",
              "<table border=\"1\" class=\"dataframe\">\n",
              "  <thead>\n",
              "    <tr style=\"text-align: right;\">\n",
              "      <th></th>\n",
              "      <th>team</th>\n",
              "      <th>wins</th>\n",
              "    </tr>\n",
              "  </thead>\n",
              "  <tbody>\n",
              "    <tr>\n",
              "      <th>0</th>\n",
              "      <td>Mumbai Indians</td>\n",
              "      <td>109</td>\n",
              "    </tr>\n",
              "    <tr>\n",
              "      <th>1</th>\n",
              "      <td>Chennai Super Kings</td>\n",
              "      <td>100</td>\n",
              "    </tr>\n",
              "    <tr>\n",
              "      <th>2</th>\n",
              "      <td>Kolkata Knight Riders</td>\n",
              "      <td>92</td>\n",
              "    </tr>\n",
              "    <tr>\n",
              "      <th>3</th>\n",
              "      <td>Royal Challengers Bangalore</td>\n",
              "      <td>84</td>\n",
              "    </tr>\n",
              "    <tr>\n",
              "      <th>4</th>\n",
              "      <td>Kings XI Punjab</td>\n",
              "      <td>82</td>\n",
              "    </tr>\n",
              "    <tr>\n",
              "      <th>5</th>\n",
              "      <td>Rajasthan Royals</td>\n",
              "      <td>75</td>\n",
              "    </tr>\n",
              "    <tr>\n",
              "      <th>6</th>\n",
              "      <td>Delhi Daredevils</td>\n",
              "      <td>67</td>\n",
              "    </tr>\n",
              "    <tr>\n",
              "      <th>7</th>\n",
              "      <td>Sunrisers Hyderabad</td>\n",
              "      <td>58</td>\n",
              "    </tr>\n",
              "    <tr>\n",
              "      <th>8</th>\n",
              "      <td>Deccan Chargers</td>\n",
              "      <td>29</td>\n",
              "    </tr>\n",
              "    <tr>\n",
              "      <th>9</th>\n",
              "      <td>Gujarat Lions</td>\n",
              "      <td>13</td>\n",
              "    </tr>\n",
              "    <tr>\n",
              "      <th>10</th>\n",
              "      <td>Pune Warriors</td>\n",
              "      <td>12</td>\n",
              "    </tr>\n",
              "    <tr>\n",
              "      <th>11</th>\n",
              "      <td>Delhi Capitals</td>\n",
              "      <td>10</td>\n",
              "    </tr>\n",
              "    <tr>\n",
              "      <th>12</th>\n",
              "      <td>Rising Pune Supergiant</td>\n",
              "      <td>10</td>\n",
              "    </tr>\n",
              "    <tr>\n",
              "      <th>13</th>\n",
              "      <td>Kochi Tuskers Kerala</td>\n",
              "      <td>6</td>\n",
              "    </tr>\n",
              "    <tr>\n",
              "      <th>14</th>\n",
              "      <td>Rising Pune Supergiants</td>\n",
              "      <td>5</td>\n",
              "    </tr>\n",
              "  </tbody>\n",
              "</table>\n",
              "</div>"
            ],
            "text/plain": [
              "                           team wins\n",
              "0                Mumbai Indians  109\n",
              "1           Chennai Super Kings  100\n",
              "2         Kolkata Knight Riders   92\n",
              "3   Royal Challengers Bangalore   84\n",
              "4               Kings XI Punjab   82\n",
              "5              Rajasthan Royals   75\n",
              "6              Delhi Daredevils   67\n",
              "7           Sunrisers Hyderabad   58\n",
              "8               Deccan Chargers   29\n",
              "9                 Gujarat Lions   13\n",
              "10                Pune Warriors   12\n",
              "11               Delhi Capitals   10\n",
              "12       Rising Pune Supergiant   10\n",
              "13         Kochi Tuskers Kerala    6\n",
              "14      Rising Pune Supergiants    5"
            ]
          },
          "execution_count": 50,
          "metadata": {},
          "output_type": "execute_result"
        }
      ],
      "source": [
        "team_wins_df"
      ]
    },
    {
      "cell_type": "markdown",
      "metadata": {
        "id": "cR7gMfFkBDUX"
      },
      "source": [
        "Of all the IPL matches played till 2019, Mumbai Indians has emerged victorious in the most number of games. They have secured most wins in four seasons and have won four IPL trophies so far. **Hence Mumbai Indians is the most successful team in IPL.**."
      ]
    },
    {
      "cell_type": "code",
      "execution_count": null,
      "metadata": {
        "id": "0uxkdvXaBDUY",
        "outputId": "6bf73f65-5041-494d-e946-8293bd2a87a3"
      },
      "outputs": [
        {
          "data": {
            "text/plain": [
              "Mumbai            101\n",
              "Kolkata            77\n",
              "Delhi              74\n",
              "Bangalore          66\n",
              "Hyderabad          64\n",
              "Chennai            57\n",
              "Jaipur             47\n",
              "Chandigarh         46\n",
              "Pune               38\n",
              "Durban             15\n",
              "Bengaluru          14\n",
              "Visakhapatnam      13\n",
              "Ahmedabad          12\n",
              "Centurion          12\n",
              "Mohali             10\n",
              "Rajkot             10\n",
              "Indore              9\n",
              "Dharamsala          9\n",
              "Johannesburg        8\n",
              "Cuttack             7\n",
              "Ranchi              7\n",
              "Port Elizabeth      7\n",
              "Abu Dhabi           7\n",
              "Cape Town           7\n",
              "Raipur              6\n",
              "Sharjah             6\n",
              "Kochi               5\n",
              "Kanpur              4\n",
              "East London         3\n",
              "Nagpur              3\n",
              "Kimberley           3\n",
              "Bloemfontein        2\n",
              "Name: city, dtype: int64"
            ]
          },
          "execution_count": 51,
          "metadata": {},
          "output_type": "execute_result"
        }
      ],
      "source": [
        "ipl_matches_df['city'].value_counts()"
      ]
    },
    {
      "cell_type": "code",
      "execution_count": null,
      "metadata": {
        "id": "R8vJKTESBDUY"
      },
      "outputs": [],
      "source": [
        "city_ser = ipl_matches_df['city'].value_counts()\n",
        "\n",
        "city_df = pd.DataFrame(columns=['city', 'matches'])\n",
        "for items in city_ser.iteritems():\n",
        "    temp_df6 = pd.DataFrame({\n",
        "        'city':[items[0]],\n",
        "        'matches':[items[1]]\n",
        "    })\n",
        "    city_df = city_df.append(temp_df6, ignore_index=True)"
      ]
    },
    {
      "cell_type": "code",
      "execution_count": null,
      "metadata": {
        "id": "EUrgVpSzBDUY",
        "outputId": "2fe7322d-7022-4690-f94c-79aa02b31aa5"
      },
      "outputs": [
        {
          "data": {
            "image/png": "[encoded data removed]",
            "text/plain": [
              "<Figure size 864x576 with 1 Axes>"
            ]
          },
          "metadata": {
            "needs_background": "light"
          },
          "output_type": "display_data"
        }
      ],
      "source": [
        "plt.title(\"Cities that hosted IPL matches\")\n",
        "sns.barplot(x='matches', y='city', data=city_df);"
      ]
    },
    {
      "cell_type": "markdown",
      "metadata": {
        "id": "0kn8efNKBDUY"
      },
      "source": [
        "**The city of Mumbai has hosted the maximum number of IPL matches.**"
      ]
    },
    {
      "cell_type": "code",
      "execution_count": null,
      "metadata": {
        "id": "hQt6hg3cBDUZ",
        "outputId": "20b6134c-9889-40a0-db17-db9ab95fbf44"
      },
      "outputs": [
        {
          "name": "stdout",
          "output_type": "stream",
          "text": [
            "The number of times the team winning toss have won: 393\n",
            "The probability of winning if won the toss: 0.52\n"
          ]
        }
      ],
      "source": [
        "win_count = 0\n",
        "for index, value in ipl_matches_df.iterrows():\n",
        "    if(value['toss_winner']==value['winner']):\n",
        "#         print(value['winner'])\n",
        "        win_count += 1\n",
        "\n",
        "print(f'The number of times the team winning toss have won: {win_count}')\n",
        "prob = win_count/len(ipl_matches_df)\n",
        "print('The probability of winning if won the toss: {:.2f}' .format(prob))"
      ]
    },
    {
      "cell_type": "markdown",
      "metadata": {
        "id": "px3OmmiEBDUZ"
      },
      "source": [
        "**The probability of winning when the team had won the toss is 52%.** So winning toss gives a slight edge over the opponent. However, it would be naive to term winning the toss as a greater advantage as there were 363 instances when the team losing the toss has won the game."
      ]
    },
    {
      "cell_type": "code",
      "execution_count": null,
      "metadata": {
        "id": "cSnzhRM_BDUZ",
        "outputId": "f4dca8b5-520d-481b-ec37-a3114c1470ea"
      },
      "outputs": [
        {
          "data": {
            "text/plain": [
              "756"
            ]
          },
          "execution_count": 55,
          "metadata": {},
          "output_type": "execute_result"
        }
      ],
      "source": [
        "len(ipl_matches_df)"
      ]
    },
    {
      "cell_type": "code",
      "execution_count": null,
      "metadata": {
        "id": "SAYefT-IBDUZ",
        "outputId": "6b8a5639-4415-4445-cab3-9774fe416ab9"
      },
      "outputs": [
        {
          "data": {
            "text/plain": [
              "146      1\n",
              "98       1\n",
              "77       1\n",
              "93       1\n",
              "102      1\n",
              "      ... \n",
              "1       10\n",
              "10      11\n",
              "4       11\n",
              "14      13\n",
              "0      419\n",
              "Name: win_by_runs, Length: 89, dtype: int64"
            ]
          },
          "execution_count": 56,
          "metadata": {},
          "output_type": "execute_result"
        }
      ],
      "source": [
        "defend_vict_ser = ipl_matches_df['win_by_runs'].value_counts()\n",
        "defend_vict_ser.sort_values(ascending=True)"
      ]
    },
    {
      "cell_type": "markdown",
      "metadata": {
        "id": "FczKQoHjBDUZ"
      },
      "source": [
        "* Of the 756 IPL matches played from 2008 to 2019, **419 matches were won chasing the target**. Hence, more victories were registered by teams chasing a total(batting second) than defending the total.\n",
        "\n",
        "* **When defending a total, the biggest victory was by 146 runs**. Let's find out that particular match."
      ]
    },
    {
      "cell_type": "code",
      "execution_count": null,
      "metadata": {
        "id": "Z-KvSCUEBDUZ",
        "outputId": "e6e798d2-65b6-4a14-c823-c43a78e5d6c5"
      },
      "outputs": [
        {
          "name": "stdout",
          "output_type": "stream",
          "text": [
            "id                               44\n",
            "season                         2017\n",
            "city                          Delhi\n",
            "date                     2017-05-06\n",
            "team1                Mumbai Indians\n",
            "team2              Delhi Daredevils\n",
            "toss_winner        Delhi Daredevils\n",
            "toss_decision                 field\n",
            "result                       normal\n",
            "dl_applied                        0\n",
            "winner               Mumbai Indians\n",
            "win_by_runs                     146\n",
            "win_by_wickets                    0\n",
            "player_of_match         LMP Simmons\n",
            "venue              Feroz Shah Kotla\n",
            "umpire1                 Nitin Menon\n",
            "umpire2                   CK Nandan\n",
            "Name: 43, dtype: object\n"
          ]
        }
      ],
      "source": [
        "score = 146\n",
        "for index, row in ipl_matches_df.iterrows():\n",
        "    if(row['win_by_runs'] == score):\n",
        "        print(row)"
      ]
    },
    {
      "cell_type": "markdown",
      "metadata": {
        "id": "1_AvGM3hBDUa"
      },
      "source": [
        "**The greatest victory in IPL on defending a total is for Mumbai Indians when they defeated Delhi Daredevils by 146 runs on 06 May 2017 at Feroz Shah Kotla stadium, Delhi.**"
      ]
    },
    {
      "cell_type": "code",
      "execution_count": null,
      "metadata": {
        "id": "9vwe_3nkBDUa",
        "outputId": "17820216-1bc0-43a9-c65c-3ea7bd4019cb"
      },
      "outputs": [
        {
          "data": {
            "text/plain": [
              "0     350\n",
              "6      85\n",
              "7      80\n",
              "5      71\n",
              "8      54\n",
              "4      41\n",
              "9      37\n",
              "3      18\n",
              "10     11\n",
              "2       6\n",
              "1       3\n",
              "Name: win_by_wickets, dtype: int64"
            ]
          },
          "execution_count": 58,
          "metadata": {},
          "output_type": "execute_result"
        }
      ],
      "source": [
        "chasing_vict_ser = ipl_matches_df['win_by_wickets'].value_counts()\n",
        "chasing_vict_ser"
      ]
    },
    {
      "cell_type": "markdown",
      "metadata": {
        "id": "szvgcsl9BDUa"
      },
      "source": [
        "* Of the 756 IPL matches played from 2008 to 2019, **350 matches were won defending the total**.\n",
        "* When chasing a target, **the biggest victory was by 10 wickets**(without losing any wickets). There were 11 such instances and we can find the details about those matches by the following code snippet:"
      ]
    },
    {
      "cell_type": "code",
      "execution_count": null,
      "metadata": {
        "id": "XY8zI28IBDUa",
        "outputId": "84bc7e6b-c664-480d-8cd8-c772c9884e16"
      },
      "outputs": [
        {
          "name": "stdout",
          "output_type": "stream",
          "text": [
            "id                                                      3\n",
            "season                                               2017\n",
            "city                                               Rajkot\n",
            "date                                           2017-04-07\n",
            "team1                                       Gujarat Lions\n",
            "team2                               Kolkata Knight Riders\n",
            "toss_winner                         Kolkata Knight Riders\n",
            "toss_decision                                       field\n",
            "result                                             normal\n",
            "dl_applied                                              0\n",
            "winner                              Kolkata Knight Riders\n",
            "win_by_runs                                             0\n",
            "win_by_wickets                                         10\n",
            "player_of_match                                   CA Lynn\n",
            "venue              Saurashtra Cricket Association Stadium\n",
            "umpire1                                       Nitin Menon\n",
            "umpire2                                         CK Nandan\n",
            "Name: 2, dtype: object\n",
            "id                                                                35\n",
            "season                                                          2017\n",
            "city                                                      Chandigarh\n",
            "date                                                      2017-04-30\n",
            "team1                                               Delhi Daredevils\n",
            "team2                                                Kings XI Punjab\n",
            "toss_winner                                          Kings XI Punjab\n",
            "toss_decision                                                  field\n",
            "result                                                        normal\n",
            "dl_applied                                                         0\n",
            "winner                                               Kings XI Punjab\n",
            "win_by_runs                                                        0\n",
            "win_by_wickets                                                    10\n",
            "player_of_match                                       Sandeep Sharma\n",
            "venue              Punjab Cricket Association IS Bindra Stadium, ...\n",
            "umpire1                                                     YC Barde\n",
            "umpire2                                                    CK Nandan\n",
            "Name: 34, dtype: object\n",
            "id                                         72\n",
            "season                                   2008\n",
            "city                                   Mumbai\n",
            "date                               2008-04-27\n",
            "team1                          Mumbai Indians\n",
            "team2                         Deccan Chargers\n",
            "toss_winner                   Deccan Chargers\n",
            "toss_decision                           field\n",
            "result                                 normal\n",
            "dl_applied                                  0\n",
            "winner                        Deccan Chargers\n",
            "win_by_runs                                 0\n",
            "win_by_wickets                             10\n",
            "player_of_match                  AC Gilchrist\n",
            "venue              Dr DY Patil Sports Academy\n",
            "umpire1                             Asad Rauf\n",
            "umpire2                            SL Shastri\n",
            "Name: 71, dtype: object\n",
            "id                              120\n",
            "season                         2009\n",
            "city                      Cape Town\n",
            "date                     2009-04-19\n",
            "team1               Kings XI Punjab\n",
            "team2              Delhi Daredevils\n",
            "toss_winner        Delhi Daredevils\n",
            "toss_decision                 field\n",
            "result                       normal\n",
            "dl_applied                        1\n",
            "winner             Delhi Daredevils\n",
            "win_by_runs                       0\n",
            "win_by_wickets                   10\n",
            "player_of_match          DL Vettori\n",
            "venue                      Newlands\n",
            "umpire1                   MR Benson\n",
            "umpire2                   SD Ranade\n",
            "Name: 119, dtype: object\n",
            "id                                         184\n",
            "season                                    2010\n",
            "city                                 Bangalore\n",
            "date                                2010-03-18\n",
            "team1                         Rajasthan Royals\n",
            "team2              Royal Challengers Bangalore\n",
            "toss_winner        Royal Challengers Bangalore\n",
            "toss_decision                            field\n",
            "result                                  normal\n",
            "dl_applied                                   0\n",
            "winner             Royal Challengers Bangalore\n",
            "win_by_runs                                  0\n",
            "win_by_wickets                              10\n",
            "player_of_match                      JH Kallis\n",
            "venue                    M Chinnaswamy Stadium\n",
            "umpire1                            K Hariharan\n",
            "umpire2                              DJ Harper\n",
            "Name: 183, dtype: object\n",
            "id                              299\n",
            "season                         2011\n",
            "city                         Mumbai\n",
            "date                     2011-05-20\n",
            "team1                Mumbai Indians\n",
            "team2              Rajasthan Royals\n",
            "toss_winner          Mumbai Indians\n",
            "toss_decision                   bat\n",
            "result                       normal\n",
            "dl_applied                        0\n",
            "winner             Rajasthan Royals\n",
            "win_by_runs                       0\n",
            "win_by_wickets                   10\n",
            "player_of_match           SR Watson\n",
            "venue              Wankhede Stadium\n",
            "umpire1                 RE Koertzen\n",
            "umpire2                  PR Reiffel\n",
            "Name: 298, dtype: object\n",
            "id                                    377\n",
            "season                               2012\n",
            "city                               Jaipur\n",
            "date                           2012-05-20\n",
            "team1                    Rajasthan Royals\n",
            "team2                      Mumbai Indians\n",
            "toss_winner              Rajasthan Royals\n",
            "toss_decision                         bat\n",
            "result                             normal\n",
            "dl_applied                              0\n",
            "winner                     Mumbai Indians\n",
            "win_by_runs                             0\n",
            "win_by_wickets                         10\n",
            "player_of_match                  DR Smith\n",
            "venue              Sawai Mansingh Stadium\n",
            "umpire1                   HDPK Dharmasena\n",
            "umpire2                     C Shamshuddin\n",
            "Name: 376, dtype: object\n",
            "id                                                        391\n",
            "season                                                   2013\n",
            "city                                               Chandigarh\n",
            "date                                               2013-04-10\n",
            "team1                                         Kings XI Punjab\n",
            "team2                                     Chennai Super Kings\n",
            "toss_winner                               Chennai Super Kings\n",
            "toss_decision                                           field\n",
            "result                                                 normal\n",
            "dl_applied                                                  0\n",
            "winner                                    Chennai Super Kings\n",
            "win_by_runs                                                 0\n",
            "win_by_wickets                                             10\n",
            "player_of_match                                    MEK Hussey\n",
            "venue              Punjab Cricket Association Stadium, Mohali\n",
            "umpire1                                             Aleem Dar\n",
            "umpire2                                         C Shamshuddin\n",
            "Name: 390, dtype: object\n",
            "id                                         543\n",
            "season                                    2015\n",
            "city                                     Delhi\n",
            "date                                2015-04-26\n",
            "team1                         Delhi Daredevils\n",
            "team2              Royal Challengers Bangalore\n",
            "toss_winner        Royal Challengers Bangalore\n",
            "toss_decision                            field\n",
            "result                                  normal\n",
            "dl_applied                                   0\n",
            "winner             Royal Challengers Bangalore\n",
            "win_by_runs                                  0\n",
            "win_by_wickets                              10\n",
            "player_of_match                       VR Aaron\n",
            "venue                         Feroz Shah Kotla\n",
            "umpire1                              M Erasmus\n",
            "umpire2                                 S Ravi\n",
            "Name: 542, dtype: object\n",
            "id                                                    591\n",
            "season                                               2016\n",
            "city                                               Rajkot\n",
            "date                                           2016-04-21\n",
            "team1                                       Gujarat Lions\n",
            "team2                                 Sunrisers Hyderabad\n",
            "toss_winner                           Sunrisers Hyderabad\n",
            "toss_decision                                       field\n",
            "result                                             normal\n",
            "dl_applied                                              0\n",
            "winner                                Sunrisers Hyderabad\n",
            "win_by_runs                                             0\n",
            "win_by_wickets                                         10\n",
            "player_of_match                                   B Kumar\n",
            "venue              Saurashtra Cricket Association Stadium\n",
            "umpire1                                        K Bharatan\n",
            "umpire2                                   HDPK Dharmasena\n",
            "Name: 590, dtype: object\n",
            "id                                        7941\n",
            "season                                    2018\n",
            "city                                    Indore\n",
            "date                                  14/05/18\n",
            "team1                          Kings XI Punjab\n",
            "team2              Royal Challengers Bangalore\n",
            "toss_winner        Royal Challengers Bangalore\n",
            "toss_decision                            field\n",
            "result                                  normal\n",
            "dl_applied                                   0\n",
            "winner             Royal Challengers Bangalore\n",
            "win_by_runs                                  0\n",
            "win_by_wickets                              10\n",
            "player_of_match                       UT Yadav\n",
            "venue                   Holkar Cricket Stadium\n",
            "umpire1                         Bruce Oxenford\n",
            "umpire2                  Virender Kumar Sharma\n",
            "Name: 683, dtype: object\n"
          ]
        }
      ],
      "source": [
        "for index, row in ipl_matches_df.iterrows():\n",
        "    if(row['win_by_wickets'] == 10):\n",
        "        print(row)"
      ]
    },
    {
      "cell_type": "code",
      "execution_count": null,
      "metadata": {
        "id": "dJUBLC13BDUa",
        "outputId": "e589e691-132a-4718-d35a-fd3f2b96f881"
      },
      "outputs": [
        {
          "data": {
            "text/html": [
              "<div>\n",
              "<style scoped>\n",
              "    .dataframe tbody tr th:only-of-type {\n",
              "        vertical-align: middle;\n",
              "    }\n",
              "\n",
              "    .dataframe tbody tr th {\n",
              "        vertical-align: top;\n",
              "    }\n",
              "\n",
              "    .dataframe thead th {\n",
              "        text-align: right;\n",
              "    }\n",
              "</style>\n",
              "<table border=\"1\" class=\"dataframe\">\n",
              "  <thead>\n",
              "    <tr style=\"text-align: right;\">\n",
              "      <th></th>\n",
              "      <th>victory_margin</th>\n",
              "      <th>instances</th>\n",
              "    </tr>\n",
              "  </thead>\n",
              "  <tbody>\n",
              "    <tr>\n",
              "      <th>1</th>\n",
              "      <td>6</td>\n",
              "      <td>85</td>\n",
              "    </tr>\n",
              "    <tr>\n",
              "      <th>2</th>\n",
              "      <td>7</td>\n",
              "      <td>80</td>\n",
              "    </tr>\n",
              "    <tr>\n",
              "      <th>3</th>\n",
              "      <td>5</td>\n",
              "      <td>71</td>\n",
              "    </tr>\n",
              "    <tr>\n",
              "      <th>4</th>\n",
              "      <td>8</td>\n",
              "      <td>54</td>\n",
              "    </tr>\n",
              "    <tr>\n",
              "      <th>5</th>\n",
              "      <td>4</td>\n",
              "      <td>41</td>\n",
              "    </tr>\n",
              "    <tr>\n",
              "      <th>6</th>\n",
              "      <td>9</td>\n",
              "      <td>37</td>\n",
              "    </tr>\n",
              "    <tr>\n",
              "      <th>7</th>\n",
              "      <td>3</td>\n",
              "      <td>18</td>\n",
              "    </tr>\n",
              "    <tr>\n",
              "      <th>8</th>\n",
              "      <td>10</td>\n",
              "      <td>11</td>\n",
              "    </tr>\n",
              "    <tr>\n",
              "      <th>9</th>\n",
              "      <td>2</td>\n",
              "      <td>6</td>\n",
              "    </tr>\n",
              "    <tr>\n",
              "      <th>10</th>\n",
              "      <td>1</td>\n",
              "      <td>3</td>\n",
              "    </tr>\n",
              "  </tbody>\n",
              "</table>\n",
              "</div>"
            ],
            "text/plain": [
              "   victory_margin instances\n",
              "1               6        85\n",
              "2               7        80\n",
              "3               5        71\n",
              "4               8        54\n",
              "5               4        41\n",
              "6               9        37\n",
              "7               3        18\n",
              "8              10        11\n",
              "9               2         6\n",
              "10              1         3"
            ]
          },
          "execution_count": 64,
          "metadata": {},
          "output_type": "execute_result"
        }
      ],
      "source": [
        "chasing_vict_df = pd.DataFrame(columns=['victory_margin', 'instances'])\n",
        "\n",
        "for items in chasing_vict_ser.iteritems():\n",
        "    temp_df7 = pd.DataFrame({\n",
        "        'victory_margin': [items[0]],\n",
        "        'instances': [items[1]]\n",
        "    })\n",
        "    chasing_vict_df = chasing_vict_df.append(temp_df7, ignore_index=True)\n",
        "\n",
        "#to drop the first row as it represents victory margin of zero wickets(victory by defending a total)\n",
        "chasing_vict_df2 = chasing_vict_df.drop([0])\n",
        "chasing_vict_df2"
      ]
    },
    {
      "cell_type": "code",
      "execution_count": null,
      "metadata": {
        "id": "Z1B2UhQrBDUb",
        "outputId": "a0b5d806-0a3f-49c9-b1d8-dad76c0f4ba6"
      },
      "outputs": [
        {
          "data": {
            "image/png": "[encoded data removed]",
            "text/plain": [
              "<Figure size 864x576 with 1 Axes>"
            ]
          },
          "metadata": {
            "needs_background": "light"
          },
          "output_type": "display_data"
        }
      ],
      "source": [
        "plt.title('The IPL victories in numbers when chasing a total')\n",
        "sns.barplot(x='victory_margin', y='instances', data=chasing_vict_df2);"
      ]
    },
    {
      "cell_type": "code",
      "execution_count": null,
      "metadata": {
        "id": "qlf9R_9qBDUb"
      },
      "outputs": [],
      "source": []
    },
    {
      "cell_type": "code",
      "execution_count": null,
      "metadata": {
        "id": "CCmykXqLBDUc"
      },
      "outputs": [],
      "source": []
    }
  ],
  "metadata": {
    "kernelspec": {
      "display_name": "Python 3",
      "language": "python",
      "name": "python3"
    },
    "language_info": {
      "codemirror_mode": {
        "name": "ipython",
        "version": 3
      },
      "file_extension": ".py",
      "mimetype": "text/x-python",
      "name": "python",
      "nbconvert_exporter": "python",
      "pygments_lexer": "ipython3",
      "version": "3.7.6"
    },
    "colab": {
      "provenance": []
    }
  },
  "nbformat": 4,
  "nbformat_minor": 0
}